{
  "nbformat": 4,
  "nbformat_minor": 0,
  "metadata": {
    "colab": {
      "provenance": []
    },
    "kernelspec": {
      "name": "python3",
      "display_name": "Python 3"
    },
    "language_info": {
      "name": "python"
    }
  },
  "cells": [
    {
      "cell_type": "markdown",
      "source": [
        "### **HugginFace - Transformers** ###\n",
        "\n",
        "Transformers: Biblioteca de código abierto de Hugging Face que facilita la creación de modelos de deep learning para procesamiento del lenguaje natural (LLM)\n",
        "\n",
        "[Transformers](https://github.com/huggingface/transformers)"
      ],
      "metadata": {
        "id": "5G9vFaJI_OwX"
      }
    },
    {
      "cell_type": "code",
      "execution_count": null,
      "metadata": {
        "id": "fbyOBklW3ivm"
      },
      "outputs": [],
      "source": [
        "from transformers import pipeline\n",
        "from google.colab import userdata\n",
        "userdata.get('ReadTokenHugginFace')"
      ]
    },
    {
      "cell_type": "markdown",
      "source": [
        "Vamos a crear un Clasificador de Análisis de Sentimiento.\n",
        "\n",
        "La función Pipeline permite crear fácilmente pipelines para diferentes tareas de procesamiento de lenguaje natural (PNL), como clasificación de texto, traducción automática, resumen de texto...\n",
        "\n",
        "* text-classification: Análisis de sentimiento\n",
        "* question-answering: Respuesta a preguntas\n",
        "* summarization: Resumen de texto\n",
        "* translation: Traducción automática\n",
        "* zero-shot-classification: Clasificación de texto sin entrenamiento\n",
        "* text-generation: Generación de texto\n",
        "* [lista completa](https://huggingface.co/docs/transformers/main_classes/pipelines#transformers.pipeline)\n",
        "\n",
        "Al pasarle el parámetro \"sentiment-analysis\", Pipeline cargará un modelo pre-entrenado especializado en identificar la polaridad emocional de un texto como positivo, negativo o neutral."
      ],
      "metadata": {
        "id": "qubXS-ldWBdW"
      }
    },
    {
      "cell_type": "code",
      "source": [
        "classifier = pipeline(\"text-classification\") # Utiliza el modelo por defecto para Análisis de Sentimiento (entrenado con Dataset de textos en Inglés)"
      ],
      "metadata": {
        "id": "-XmwCHgmWGo5"
      },
      "execution_count": null,
      "outputs": []
    },
    {
      "cell_type": "code",
      "source": [
        "## Uso del clasificador de análisis de sentimiento\n",
        "res = classifier(\"Me encantan las películas de acción y aventuras, son geniales\")\n",
        "print(res)\n",
        "res = classifier(\"La película es buena. El público disfrutará al verla.\")\n",
        "print(res)"
      ],
      "metadata": {
        "id": "opXUW79zmfTz"
      },
      "execution_count": null,
      "outputs": []
    },
    {
      "cell_type": "markdown",
      "source": [
        "## *Modelo y Tokenizer:* ##\n",
        "\n",
        "Vamos a bajar a un nivel inferior y ver las etapas que se están ejecutando para realizar el proceso de análisis.\n",
        "\n",
        "Para ello, vamos a reproducir los resultados anteriores con más detalle en la codificación."
      ],
      "metadata": {
        "id": "iew_Kam4tLix"
      }
    },
    {
      "cell_type": "code",
      "source": [
        "from transformers import pipeline\n",
        "from transformers import AutoTokenizer, AutoModelForSequenceClassification"
      ],
      "metadata": {
        "id": "GxOEaJyntoLk"
      },
      "execution_count": null,
      "outputs": []
    },
    {
      "cell_type": "code",
      "source": [
        "model_name = \"distilbert-base-uncased-finetuned-sst-2-english\" # Modelo por defecto para Análisis de Sentimiento"
      ],
      "metadata": {
        "id": "Q9vZJfHJup5B"
      },
      "execution_count": null,
      "outputs": []
    },
    {
      "cell_type": "code",
      "source": [
        "tokenizer = AutoTokenizer.from_pretrained(model_name)                  # Creamos el Tokenizador\n",
        "model = AutoModelForSequenceClassification.from_pretrained(model_name) # Creamos el Modelo\n",
        "\n",
        "classifier = pipeline(\n",
        "    \"text-classification\",\n",
        "    model = model,\n",
        "    tokenizer = tokenizer\n",
        ")"
      ],
      "metadata": {
        "id": "2Zaux0RIuHHe"
      },
      "execution_count": null,
      "outputs": []
    },
    {
      "cell_type": "code",
      "source": [
        "res = classifier(\"Me encantan las películas de acción y aventuras, son geniales\")\n",
        "print(res)\n",
        "res = classifier(\"La película es buena. El público disfrutará al verla.\")\n",
        "print(res)"
      ],
      "metadata": {
        "id": "kEIhYCSlvgKK"
      },
      "execution_count": null,
      "outputs": []
    },
    {
      "cell_type": "code",
      "source": [
        "model # Podemos ver la arquitectura del modelo creado"
      ],
      "metadata": {
        "id": "FWunp40xvr2M"
      },
      "execution_count": null,
      "outputs": []
    },
    {
      "cell_type": "markdown",
      "source": [
        "Vamos a ver cómo funciona el Tokenizador con más detalle.\n",
        "\n",
        "El modelo sólo comprende valores numéricos. Por tanto, debemos convertir nuestros textos en números para poder pasarlos como entrada a nuestro modelo."
      ],
      "metadata": {
        "id": "b9x-2I2C5N0F"
      }
    },
    {
      "cell_type": "code",
      "source": [
        "texto = \"La película es buena. El público disfrutará al verla.\"\n",
        "res = tokenizer(texto)\n",
        "print(res)"
      ],
      "metadata": {
        "id": "lsB9L6bd5TCC"
      },
      "execution_count": null,
      "outputs": []
    },
    {
      "cell_type": "markdown",
      "source": [
        "Paso a paso..."
      ],
      "metadata": {
        "id": "nxgcUxiE6B2I"
      }
    },
    {
      "cell_type": "code",
      "source": [
        "tokens = tokenizer.tokenize(texto)                  # Se parte el texto de entrada en Tokens\n",
        "print(tokens)\n",
        "token_ids = tokenizer.convert_tokens_to_ids(tokens) # Se convierten los Tokens en identificadores numéricos\n",
        "print(token_ids)\n",
        "tokenizer.decode(res['input_ids'])                  # Decodificar los identificadores numéricos"
      ],
      "metadata": {
        "id": "026sNfPt6C6Q"
      },
      "execution_count": null,
      "outputs": []
    },
    {
      "cell_type": "markdown",
      "source": [
        "Los resultado obtenidos no han sido tan buenos como nos hubiera gustado.\n",
        "* El Tokenizador genera los Tokens de manera que se pierde contexto de los datos de entrada.\n",
        "* El resultado de la clásificación de análisis de sentimiento podría ser mejor.\n",
        "\n",
        "Está ocurriendo esto porque estamos trabajando con el modelo por defecto propuesto para la tarea de análisis de sentimiento (distilbert-base-uncased-finetuned-sst-2-english). Dicho modelo está entrenado con un Dataset en inglés, y por tanto, los resultados obtenidos para el análisis de sentimiento con frases en Castellano no son muy buenos.\n",
        "\n",
        "Vamos a probar a utilizar un [modelo](https://huggingface.co/models) que haya sido entrenado con un Dataset en Castellano."
      ],
      "metadata": {
        "id": "ZIiE2LVl7L0M"
      }
    },
    {
      "cell_type": "code",
      "source": [
        "model_name = \"lxyuan/distilbert-base-multilingual-cased-sentiments-student\""
      ],
      "metadata": {
        "id": "gtkjbqwF8TdJ"
      },
      "execution_count": null,
      "outputs": []
    },
    {
      "cell_type": "code",
      "source": [
        "tokenizer = AutoTokenizer.from_pretrained(model_name)                  # Creamos el Tokenizador\n",
        "model = AutoModelForSequenceClassification.from_pretrained(model_name) # Creamos el Modelo\n",
        "\n",
        "classifier = pipeline(\n",
        "    \"text-classification\",\n",
        "    model = model,\n",
        "    tokenizer = tokenizer\n",
        ")"
      ],
      "metadata": {
        "id": "8_HT6KF_8dZ3"
      },
      "execution_count": null,
      "outputs": []
    },
    {
      "cell_type": "code",
      "source": [
        "res = classifier(\"Me encantan las películas de acción y aventuras, son geniales\")\n",
        "print(res)\n",
        "res = classifier(\"La película es buena. El público disfrutará al verla.\")\n",
        "print(res)"
      ],
      "metadata": {
        "id": "yQXFQ5yO-qOo"
      },
      "execution_count": null,
      "outputs": []
    },
    {
      "cell_type": "markdown",
      "source": [
        "## *Guardar Modelo y Tokenizer en Local:* ##\n",
        "\n",
        "Guardado"
      ],
      "metadata": {
        "id": "CygSFt9CCXWF"
      }
    },
    {
      "cell_type": "code",
      "source": [
        "model_path = (\"./modelo\")\n",
        "tokenizer.save_pretrained(model_path)\n",
        "model.save_pretrained(model_path)"
      ],
      "metadata": {
        "id": "w_LwGSt8CiWY"
      },
      "execution_count": null,
      "outputs": []
    },
    {
      "cell_type": "markdown",
      "source": [
        "Utilización de un modelo guardado en local"
      ],
      "metadata": {
        "id": "-ODtBOtwDZRL"
      }
    },
    {
      "cell_type": "code",
      "source": [
        "tokenizer_local = AutoTokenizer.from_pretrained(model_path)\n",
        "model_local = AutoModelForSequenceClassification.from_pretrained(model_path)\n",
        "\n",
        "classifier = pipeline(\n",
        "    \"text-classification\",\n",
        "    model = model_local,\n",
        "    tokenizer = tokenizer_local\n",
        ")"
      ],
      "metadata": {
        "id": "kZX1uoRhCtvC"
      },
      "execution_count": null,
      "outputs": []
    },
    {
      "cell_type": "code",
      "source": [
        "res = classifier(\"Me encantan las películas de acción y aventuras, son geniales\")\n",
        "print(res)"
      ],
      "metadata": {
        "id": "W3S2TkqNDniH"
      },
      "execution_count": null,
      "outputs": []
    },
    {
      "cell_type": "markdown",
      "source": [
        "## *Conclusión* ##\n",
        "\n",
        "Podemos hacer crear un Clasificador de Texto (Análisis de Sentimiento), haciendo uso del modelo que escojamos mediante el siguiente código."
      ],
      "metadata": {
        "id": "iy7BHHYqASko"
      }
    },
    {
      "cell_type": "code",
      "source": [
        "from transformers import pipeline\n",
        "from google.colab import userdata\n",
        "userdata.get('ReadTokenHugginFace')"
      ],
      "metadata": {
        "id": "3le_VNDnAiJJ"
      },
      "execution_count": null,
      "outputs": []
    },
    {
      "cell_type": "code",
      "source": [
        "model_name = \"lxyuan/distilbert-base-multilingual-cased-sentiments-student\"\n",
        "classifier = pipeline(\"text-classification\", model = model_name)"
      ],
      "metadata": {
        "id": "hsVn1uHRAmyk"
      },
      "execution_count": null,
      "outputs": []
    },
    {
      "cell_type": "code",
      "source": [
        "res = classifier(\"Me encantan las películas de acción y aventuras, son geniales\")\n",
        "print(res)"
      ],
      "metadata": {
        "id": "T1vZcKVgBXhu"
      },
      "execution_count": null,
      "outputs": []
    }
  ]
}