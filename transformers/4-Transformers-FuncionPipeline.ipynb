{
  "nbformat": 4,
  "nbformat_minor": 0,
  "metadata": {
    "colab": {
      "provenance": [],
      "collapsed_sections": [
        "dQ-Zb1KaajEv",
        "nunbJNCAef01",
        "rh-_FAHBvIaX",
        "zXpJUxymf48i",
        "coTRYBrL3Smr",
        "qfhXCs2v31FB",
        "ei7aLzKEdcIn"
      ],
      "gpuType": "T4"
    },
    "kernelspec": {
      "name": "python3",
      "display_name": "Python 3"
    },
    "language_info": {
      "name": "python"
    },
    "accelerator": "GPU"
  },
  "cells": [
    {
      "cell_type": "markdown",
      "source": [
        "# **Transformers - [Función Pipeline](https://huggingface.co/docs/transformers/main/en/main_classes/pipelines)** #\n",
        "\n",
        "La función Pipeline sirve para realizar una inferencia veloz. Carga un modelo preentrenado y un tokenizador para resolver tareas como...\n",
        "\n",
        "---\n",
        "**Texto:**\n",
        "\n",
        "* Clasificación de Texto / Análisis de Sentimiento (Text Clasification / Sentiment Analysis): Clasifica la polaridad de un texto dado.\n",
        "* Generación de Texto (Text Generation): Genera texto a partir de un input dado.\n",
        "* Reconocimiento de Entidades (Name Entity Recognition o NER): Etiqueta cada palabra con la entidad que representa (persona, fecha, ubicación...).\n",
        "* Responder Preguntas (Question answering): Extrae la respuesta del contexto dado un contexto y una pregunta.\n",
        "* Rellenar Máscara (Fill-mask): Rellena el espacio faltante dado un texto con palabras enmascaradas.\n",
        "* Resumir (Summarization): Genera un resumen de una secuencia larga de texto o un documento.\n",
        "* Traducción (Translation): Traduce un texto a otro idioma.\n",
        "* Extracción de Características (Feature Extraction): Crea una representación tensorial del texto.\n",
        "---\n",
        "**Imagen:**\n",
        "\n",
        "* Clasificación de Imágenes (Image Classification): Clasifica una imagen.\n",
        "* Segmentación de Imágenes (Image Segmentation): Clasifica cada pixel de una imagen.\n",
        "* Detección de Objetos (Object Detection): Detecta objetos dentro de una imagen.\n",
        "---\n",
        "**Audio:**\n",
        "\n",
        "* Clasificación de Audios (Audio Classification): Asigna una etiqueta a un segmento de audio.\n",
        "* Reconocimiento de Voz Automático (Automatic Speech Recognition o ASR): Transcribe datos de audio a un texto.\n",
        "---"
      ],
      "metadata": {
        "id": "tt_B3i4DLJcm"
      }
    },
    {
      "cell_type": "markdown",
      "source": [
        "### **Uso de Pipeline:**"
      ],
      "metadata": {
        "id": "6E3sC20uOMdk"
      }
    },
    {
      "cell_type": "markdown",
      "source": [
        "Importar la función Pipeline."
      ],
      "metadata": {
        "id": "-6sfxteTdBBg"
      }
    },
    {
      "cell_type": "code",
      "source": [
        "!pip install -U transformers"
      ],
      "metadata": {
        "id": "FzJVwflOHGQY"
      },
      "execution_count": null,
      "outputs": []
    },
    {
      "cell_type": "code",
      "execution_count": 2,
      "metadata": {
        "id": "QhIWYV_RIAmw"
      },
      "outputs": [],
      "source": [
        "from transformers import pipeline"
      ]
    },
    {
      "cell_type": "markdown",
      "source": [
        "Especificar la tarea que se desea completar."
      ],
      "metadata": {
        "id": "NySxxKoYOJ6K"
      }
    },
    {
      "cell_type": "code",
      "source": [
        "clasificador = pipeline(task=\"text-classification\", model=\"lxyuan/distilbert-base-multilingual-cased-sentiments-student\")"
      ],
      "metadata": {
        "id": "XB41pUMaOd0E"
      },
      "execution_count": null,
      "outputs": []
    },
    {
      "cell_type": "markdown",
      "source": [
        "Pipeline descarga y almacena en caché el modelo preentrenado y tokenizador para análisis de sentimiento. Si no hubieramos elegido un modelo (clasificador = pipeline(\"text-classification\")) el pipeline habría elegido uno por defecto. Ahora ya podemos usar el objeto clasificador..."
      ],
      "metadata": {
        "id": "kdqPLlIfPsGe"
      }
    },
    {
      "cell_type": "code",
      "source": [
        "res = clasificador(\"Me encantan las películas de acción y aventuras, son geniales\")\n",
        "print(res)"
      ],
      "metadata": {
        "id": "KRQTJKs_QXUN"
      },
      "execution_count": null,
      "outputs": []
    },
    {
      "cell_type": "markdown",
      "source": [
        "# **Tareas relacionadas con el PLN (Procesamiento de Lenguaje Natural)**"
      ],
      "metadata": {
        "id": "O6QGWgJSRfWL"
      }
    },
    {
      "cell_type": "markdown",
      "source": [
        "Las tareas de PLN se encuentran entre las más comunes debido a que el texto es una forma natural de comunicación. Para que un modelo reconozca el texto, es necesario \"tokenizarlo\". Lo que implica dividir una secuencia de texto en palabras individuales o subpalabras (tokens) y luego convertirlas en números. Como resultado, se puede representar una secuencia de texto como una secuencia de números, y una vez que se tiene una secuencia de números, se puede introducir en un modelo para resolver todo tipo de tareas de PLN."
      ],
      "metadata": {
        "id": "uX6UnFbCdzLs"
      }
    },
    {
      "cell_type": "markdown",
      "source": [
        "## **Clasificación de texto:**"
      ],
      "metadata": {
        "id": "dQ-Zb1KaajEv"
      }
    },
    {
      "cell_type": "markdown",
      "source": [
        "La clasificación de texto etiqueta una secuencia de texto (puede ser a nivel de oración, párrafo o documento) a partir de un conjunto predefinido de clases. Aplicaciones prácticas:"
      ],
      "metadata": {
        "id": "YZZVBr0IajAC"
      }
    },
    {
      "cell_type": "markdown",
      "source": [
        "### **Análisis de sentimiento (Sentiment Analysis):**"
      ],
      "metadata": {
        "id": "nunbJNCAef01"
      }
    },
    {
      "cell_type": "markdown",
      "source": [
        "Etiquetar el texto según una polaridad como \"positivo\" o \"negativo\"."
      ],
      "metadata": {
        "id": "CaiLbiVb3xkR"
      }
    },
    {
      "cell_type": "code",
      "source": [
        "clasificador = pipeline(task=\"text-classification\", model=\"lxyuan/distilbert-base-multilingual-cased-sentiments-student\")"
      ],
      "metadata": {
        "id": "aTuaC8Trfki3"
      },
      "execution_count": null,
      "outputs": []
    },
    {
      "cell_type": "code",
      "source": [
        "res = clasificador(\"Me encantan las películas de acción y aventuras, son geniales\")\n",
        "print(res)"
      ],
      "metadata": {
        "colab": {
          "base_uri": "https://localhost:8080/"
        },
        "id": "GmS8RnhCfTv7",
        "outputId": "254d7b24-a1b8-495b-b5aa-79059257babf"
      },
      "execution_count": null,
      "outputs": [
        {
          "output_type": "stream",
          "name": "stdout",
          "text": [
            "[{'label': 'positive', 'score': 0.9821197390556335}]\n"
          ]
        }
      ]
    },
    {
      "cell_type": "markdown",
      "source": [
        "### **Análisis de emoción:**\n",
        "`¡¡¡TENGO QUE ENCONTRAR UN MODELO QUE FUNCIONE BIEN EN CASTELLANO!!!`"
      ],
      "metadata": {
        "id": "rh-_FAHBvIaX"
      }
    },
    {
      "cell_type": "markdown",
      "source": [
        "Etiquetar el texto según una emoción en base a las categorías predefinidas."
      ],
      "metadata": {
        "id": "8lBjdFR93iW1"
      }
    },
    {
      "cell_type": "code",
      "source": [
        "clasificador = pipeline(task=\"text-classification\", model=\"SamLowe/roberta-base-go_emotions\", top_k=None)"
      ],
      "metadata": {
        "id": "XsQwHg4AwpkE"
      },
      "execution_count": null,
      "outputs": []
    },
    {
      "cell_type": "code",
      "source": [
        "textos = [\"I love football.\"]\n",
        "res = clasificador(textos)"
      ],
      "metadata": {
        "id": "T9TFr4UFxGum"
      },
      "execution_count": null,
      "outputs": []
    },
    {
      "cell_type": "code",
      "source": [
        "res[0]"
      ],
      "metadata": {
        "id": "FuZdW2unxP1H"
      },
      "execution_count": null,
      "outputs": []
    },
    {
      "cell_type": "markdown",
      "source": [
        "### **Inferencia del Lenguaje Natural (Natural Language Inference - NLI):**\n",
        "`¡¡¡TENGO QUE ENCONTRAR UN MODELO QUE FUNCIONE BIEN EN CASTELLANO!!!`"
      ],
      "metadata": {
        "id": "zXpJUxymf48i"
      }
    },
    {
      "cell_type": "markdown",
      "source": [
        "Evaluar si la información presentada en la hipótesis se puede inferir de la premisa. Resultados...\n",
        "\n",
        "* Entailment: La información de la hipótesis se deriva necesariamente de la premisa. Por ejemplo, Premisa: \"Todos los gatos son mamíferos.\" Hipótesis: \"Mi gato es un mamífero.\"\n",
        "* Contradiction: La información de la hipótesis contradice directamente a la premisa. Por ejemplo, Premisa: \"El cielo es azul.\" Hipótesis: \"El cielo es rojo.\"\n",
        "* Neutral: No se puede determinar si la información de la hipótesis se puede inferir de la premisa o no. Por ejemplo, Premisa: \"A Juan le gustan las películas de acción.\" Hipótesis: \"A Juan le gusta la película Titanic.\""
      ],
      "metadata": {
        "id": "_LupJOFc3aWC"
      }
    },
    {
      "cell_type": "code",
      "source": [
        "clasificador = pipeline(\"text-classification\", model = \"roberta-large-mnli\")"
      ],
      "metadata": {
        "id": "hQElwXXvgfvH"
      },
      "execution_count": null,
      "outputs": []
    },
    {
      "cell_type": "code",
      "source": [
        "res = clasificador(\"El niño tiene un lapicero. Hay un objeto que sirve para escribir en la mano del niño.\")\n",
        "print(res)\n",
        "res = clasificador(\"El niño está en la cocina. El niño ha ido al baño.\")\n",
        "print(res)\n",
        "res = clasificador(\"El niño está en la cocina. El niño tiene fiebre.\")\n",
        "print(res)"
      ],
      "metadata": {
        "colab": {
          "base_uri": "https://localhost:8080/"
        },
        "id": "9U-90UYMrmc2",
        "outputId": "102599bd-7cc5-4c39-f92d-25cbdcefdb73"
      },
      "execution_count": null,
      "outputs": [
        {
          "output_type": "stream",
          "name": "stdout",
          "text": [
            "[{'label': 'NEUTRAL', 'score': 0.6019813418388367}]\n",
            "[{'label': 'CONTRADICTION', 'score': 0.9388557076454163}]\n",
            "[{'label': 'NEUTRAL', 'score': 0.5525568127632141}]\n"
          ]
        }
      ]
    },
    {
      "cell_type": "markdown",
      "source": [
        "### **Inferencia del Lenguaje Natural para preguntas (Natural Language Inference - QNLI):**"
      ],
      "metadata": {
        "id": "coTRYBrL3Smr"
      }
    },
    {
      "cell_type": "markdown",
      "source": [
        "QNLI es la tarea de determinar si la respuesta a una pregunta específica se puede encontrar en un documento determinado. Si la respuesta se encuentra, la etiqueta es \"entailment\". Si la respuesta no se encuentra, la etiqueta es \"not entailment\".\n",
        "\n",
        "En otras palabras, QNLI evalúa la relación semántica entre una pregunta (premisa) y un documento (hipótesis). La tarea consiste en decidir si la información necesaria para responder la pregunta está implícita o explícitamente presente en el documento.\n",
        "\n",
        "* Entailment: La respuesta a la prengunta está en el documento, Premisa: \"¿A qué hora sale el vuelo 234 de Madrid?\" Hipótesis: \"El vuelo 234 de Madrid sale a las 10:30 AM.\"\n",
        "* Not Entailment: La respuesta a la prengunta no está en el documento, Premisa: \"¿A Juan le gustan los animales?\" Hipótesis: \"Juan tiene un perro.\""
      ],
      "metadata": {
        "id": "wRGNxSmK5Dqw"
      }
    },
    {
      "cell_type": "code",
      "source": [
        "clasificador = pipeline(\"text-classification\", model = \"cross-encoder/qnli-electra-base\")"
      ],
      "metadata": {
        "id": "RlN6lhb_3TWn"
      },
      "execution_count": null,
      "outputs": []
    },
    {
      "cell_type": "code",
      "source": [
        "res = clasificador(\"¿A qué hora sale el vuelo 234 de Madrid?, El vuelo 234 de Madrid sale a las 10:30 AM.\")\n",
        "print(res)\n",
        "res = clasificador(\"¿A Juan le gustan los animales?, Juan tiene un perro.\")\n",
        "print(res)"
      ],
      "metadata": {
        "id": "YkvhxuB98aRl"
      },
      "execution_count": null,
      "outputs": []
    },
    {
      "cell_type": "markdown",
      "source": [
        "### **Completa la frase con la palabra adecuada (Unmask):**"
      ],
      "metadata": {
        "id": "qfhXCs2v31FB"
      }
    },
    {
      "cell_type": "markdown",
      "source": [
        "Se utiliza para completar frases con palabras que faltan."
      ],
      "metadata": {
        "id": "NGl895VsBKic"
      }
    },
    {
      "cell_type": "code",
      "source": [
        "unmasker = pipeline('fill-mask', model='bert-base-multilingual-cased')"
      ],
      "metadata": {
        "id": "6gyyWUyX_WCb"
      },
      "execution_count": null,
      "outputs": []
    },
    {
      "cell_type": "code",
      "source": [
        "unmasker(\"El perro [MASK] con la pelota.\")"
      ],
      "metadata": {
        "id": "_hdu0o-5_nGf"
      },
      "execution_count": null,
      "outputs": []
    },
    {
      "cell_type": "markdown",
      "source": [
        "# **Tareas relacionadas con Audio**"
      ],
      "metadata": {
        "id": "ei7aLzKEdcIn"
      }
    },
    {
      "cell_type": "markdown",
      "source": [
        "**Clasificación de Audio:**\n",
        "\n",
        "La clasificación de audio es una tarea que etiqueta datos de audio a partir de un conjunto predefinido de categorías. Posibles aplicaciones:\n",
        "* Identificación de escena sonora (acoustic scene classification): Etiquetar el audio con una etiqueta de escena (\"oficina\", \"playa\", \"estadio\").\n",
        "* Detección de eventos acústicos (acoustic event detection): Etiquetar el audio con una etiqueta de evento sonoro (\"bocina de coche\", \"canto de ballena\", \"cristal rompiéndose\").\n",
        "* Etiquetado (tagging): Etiquetar audio que contiene múltiples sonidos (cantos de aves, identificación de hablantes en una reunión).\n",
        "* Clasificación de música (music classification): Clasificar la música por género (\"metal\", \"hip-hop\", \"country\")."
      ],
      "metadata": {
        "id": "zNi1iZ8HSHPZ"
      }
    },
    {
      "cell_type": "code",
      "source": [
        "clasificador = pipeline(task=\"audio-classification\", model=\"superb/hubert-base-superb-er\")\n",
        "preds = clasificador(\"https://huggingface.co/datasets/Narsil/asr_dummy/resolve/main/mlk.flac\")\n",
        "preds = [{\"score\": round(pred[\"score\"], 4), \"label\": pred[\"label\"]} for pred in preds]\n",
        "preds"
      ],
      "metadata": {
        "id": "kQORI4WKR4Kp"
      },
      "execution_count": null,
      "outputs": []
    },
    {
      "cell_type": "markdown",
      "source": [
        "# **Pruebas**"
      ],
      "metadata": {
        "id": "0QPybMEjCi5Y"
      }
    },
    {
      "cell_type": "code",
      "source": [
        "from transformers import pipeline, set_seed"
      ],
      "metadata": {
        "id": "zcAmivHOCk3q"
      },
      "execution_count": null,
      "outputs": []
    },
    {
      "cell_type": "code",
      "source": [
        "generator = pipeline('text-generation', model='gpt2')"
      ],
      "metadata": {
        "id": "qR8a0tsOC1MI"
      },
      "execution_count": null,
      "outputs": []
    },
    {
      "cell_type": "code",
      "source": [
        "set_seed(42)\n",
        "generator(\"Hello, I'm a language model,\", max_length=30, num_return_sequences=5)"
      ],
      "metadata": {
        "id": "LMtWk5zCC5NU"
      },
      "execution_count": null,
      "outputs": []
    },
    {
      "cell_type": "code",
      "source": [],
      "metadata": {
        "id": "fctBVJEqEeWa"
      },
      "execution_count": null,
      "outputs": []
    },
    {
      "cell_type": "code",
      "source": [
        "from transformers import AutoModelForCausalLM, AutoTokenizer"
      ],
      "metadata": {
        "id": "HsYVTLgrE8_N"
      },
      "execution_count": 3,
      "outputs": []
    },
    {
      "cell_type": "code",
      "source": [
        "model_id = \"mistralai/Mixtral-8x7B-Instruct-v0.1\"\n",
        "tokenizer = AutoTokenizer.from_pretrained(model_id)\n",
        "model = AutoModelForCausalLM.from_pretrained(model_id)"
      ],
      "metadata": {
        "id": "OHHqSmxKE8wG"
      },
      "execution_count": null,
      "outputs": []
    },
    {
      "cell_type": "code",
      "source": [
        "text = \"Hello my name is\"\n",
        "inputs = tokenizer(text, return_tensors=\"pt\")\n",
        "\n",
        "outputs = model.generate(**inputs, max_new_tokens=20)\n",
        "print(tokenizer.decode(outputs[0], skip_special_tokens=True))"
      ],
      "metadata": {
        "id": "9SrXRKcTFObX"
      },
      "execution_count": null,
      "outputs": []
    }
  ]
}