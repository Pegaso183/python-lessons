{
 "cells": [
  {
   "cell_type": "markdown",
   "id": "59724343-33e6-4fe4-adf1-0e4a6172d683",
   "metadata": {},
   "source": [
    "### **Operaciones básicas con Python** ###"
   ]
  },
  {
   "cell_type": "markdown",
   "id": "d0e8f00b-058a-46cb-98cc-ef1df61e64d8",
   "metadata": {},
   "source": [
    "**Inicialización de variables:**"
   ]
  },
  {
   "cell_type": "code",
   "execution_count": 3,
   "id": "6793c9ae-a4fe-49d1-85a6-fd4709c9cf86",
   "metadata": {},
   "outputs": [
    {
     "name": "stdout",
     "output_type": "stream",
     "text": [
      "Texto que contiene algún caráter especial \\n pero no se interpreta\n"
     ]
    }
   ],
   "source": [
    "a = \"Texto\"            ## La variable contiene un Texto\n",
    "b = 1                  ## La variable contiene un Número Entero\n",
    "c = 2.81427            ## La variable contiene un Número Real\n",
    "d = [\"Texto\", 1, 2.8]  ## La variable contiene una Lista\n",
    "e = r\"Texto que contiene algún caráter especial \\n pero no se interpreta.\""
   ]
  },
  {
   "cell_type": "markdown",
   "id": "c0524ce6-5970-44fe-8654-961ce0a669cd",
   "metadata": {},
   "source": [
    "**Operadores:**"
   ]
  },
  {
   "cell_type": "code",
   "execution_count": null,
   "id": "65cf6a7f-1a92-4adb-b861-72d3a3c55604",
   "metadata": {},
   "outputs": [],
   "source": [
    "## Operadores Aritméticos ##\n",
    "var1 = 1+1    ## Suma\n",
    "var2 = 1-1    ## Resta\n",
    "var3 = 1*1    ## Multiplicación\n",
    "var4 = 1/1    ## División\n",
    "var5 = 5 % 2  ## Resto de la división\n",
    "var6 = 5 // 2 ## Parte entera de la división\n",
    "var7 = 2 ** 3 ## Potencia (2 elevado a 3)\n",
    "\n",
    "## Operadores Relacionales ##\n",
    "print(var1 > var2)  ## Mayor\n",
    "print(var1 >= var2) ## Mayor o igual\n",
    "print(var1 < var2)  ## Menor\n",
    "print(var1 <= var2) ## Menor o igual\n",
    "print(var1 == var2) ## Igual\n",
    "print(var1 != var2) ## Distinto\n",
    "\n",
    "## Operadores de Asignación ##\n",
    "var8 = 1  ## Asignamos a la variable var8 el valor 1\n",
    "var8 += 1 ## Asignamos a la variable var8 el valor que tuviera previamente más 1 (1+1)\n",
    "## ... igual con cualquiera de los Operadores Relacionales listados previamente \n",
    "\n",
    "## Operadores Lógicos ##\n",
    "t = True\n",
    "f = False\n",
    "log1 = not t    ## Negación de un valor lógico\n",
    "log1 = t and f  ## Y\n",
    "log1 = t or f   ## O\n",
    "\n",
    "## Operadores de Pertenencia ##\n",
    "print(1 in d)\n",
    "print(1 not in d)\n",
    "print(\"Tex\" in a)\n",
    "print(\"Otro\" not in a)\n"
   ]
  },
  {
   "cell_type": "markdown",
   "id": "8e23e339-e9b4-4154-bfeb-b0067ebfa3a8",
   "metadata": {},
   "source": [
    "**Salida por pantalla:**"
   ]
  },
  {
   "cell_type": "code",
   "execution_count": null,
   "id": "ed02457d-2d31-4c31-a5fa-ac8b7c8968a3",
   "metadata": {},
   "outputs": [],
   "source": [
    "print(\"Texto\")              ## Imprime un Texto\n",
    "print(1)                    ## Imprime un Número\n",
    "print(a)                    ## Imprime el valor de una Variable\n",
    "print(d)                    ## Imprime el valor de una Variable que contiene una Lista\n",
    "print(d[0])                 ## Imprime el valor del elemento N de la lista d (la indexación comienza en 0)\n",
    "print(\"Texto\", b, 3, d[2])  ## Imprime los parámetros separados por \",\"\n",
    "\n",
    "string = \"Cadena de Texto\"\n",
    "print(string + \"\\n\" + string)                                         ## Se pueden concatenar cadenas de caracteres con el signo + y /n significa Retorno de Carro\n",
    "print(\"Se muestra una '{}' y el número '{}'\".format(string, b))       ## Método .format(a, b, ...) permite asociar valores dentro de un string de manera cómoda\n",
    "print(\"Se muestra una '{1}' y el número '{0}'\".format(b, string))     ## Método .format(a, b, ...) también es posible indicar la ordenación de los valores\n",
    "print(\"Se muestra una '{x}' y el número '{y}'\".format(x=string, y=b)) ## Método .format(a, b, ...) también es posible utilizar identificadores para su asignación\n",
    "print(f\"Se muestra una '{string}' y el número '{b}'\")                 ## Método .format en formato simplificado\n",
    "print(\"{:>30}\".format(string))                                        ## Método .format(a) para alinear el texto a la Derecha (poninedo espacios a la Izquierda)\n",
    "print(\"{:30}\".format(string))                                         ## Método .format(a) para alinear el texto a la Izquierda (poniendo espacios a la Derecha)\n",
    "print(\"{:^30}\".format(string))                                        ## Método .format(a) para alinear el texto al Centro (poniendo espacios a la Izquierda y a la Derecha)\n",
    "print(\"{:.8}\".format(string))                                         ## Método .format(a) para quedarse con los N primeros caracteres\n",
    "print(\"{:>30.8}\".format(string))                                      ## Método .format(a) compaginando el Truncado y el Alineado\n",
    "print(\"{:04d}\".format(b))                                             ## Método .format(a) para poner caracteres (en este caso 0s -si no se informa el carácter, pone espacios-) por delante de Números Enteros\n",
    "print(\"{:07.3f}\".format(c))                                           ## Método .format(a) para poner caracteres (en este caso 0s -si no se informa el carácter, pone espacios-) por delante y por detrás de Números Reales (primero parte decimal y después entera)\n"
   ]
  },
  {
   "cell_type": "markdown",
   "id": "b496c6f0-8410-45e4-b1c9-7215893b166b",
   "metadata": {},
   "source": [
    "**Control de Flujo: Condiciones**"
   ]
  },
  {
   "cell_type": "code",
   "execution_count": null,
   "id": "bbc4b542-3629-497f-9806-1991b9c21d71",
   "metadata": {},
   "outputs": [],
   "source": [
    "instruccion = \"DESCONOCIDO\"\n",
    "if instruccion == \"ENTRAR\":\n",
    "    print(\"Bienvenido\")\n",
    "elif instruccion == \"SALUDAR\":\n",
    "    print(\"Hola\")\n",
    "else:\n",
    "    print(\"No se reconoce la instrucción\")"
   ]
  },
  {
   "cell_type": "markdown",
   "id": "4a802669-f23f-4796-a87d-db7d47bad7b3",
   "metadata": {},
   "source": [
    "**Control de Flujo: Iteraciones**"
   ]
  },
  {
   "cell_type": "code",
   "execution_count": null,
   "id": "c60d311a-7653-4706-803a-d88ec31a64a3",
   "metadata": {},
   "outputs": [],
   "source": [
    "i = 0\n",
    "while i < 6:\n",
    "    i += 1\n",
    "    if i == 3:\n",
    "        continue  ## Opcional (Salimos de la iteración actual del bucle)\n",
    "    if i == 5:\n",
    "        break     ## Opcional (Salimos del bucle)\n",
    "    print(i)\n",
    "else:             ## Opcional (Se ejecuta tras finalizar todas las iteraciones del bucle -Si no ha finalizado por break)\n",
    "    print(\"Solo se ejecuta el Else si no se ha ejecutado el Break\")"
   ]
  },
  {
   "cell_type": "code",
   "execution_count": null,
   "id": "101ecfc4-c43d-45ca-941a-b924edc0a640",
   "metadata": {},
   "outputs": [],
   "source": [
    "for caracter in a:\n",
    "    print(caracter)\n",
    "\n",
    "meses = [\"Enero\", \"Febrero\", \"Marzo\"]\n",
    "for mes in meses:\n",
    "    print(mes)\n",
    "\n",
    "for indice, mes in enumerate(meses):\n",
    "    print(indice + 1, end=\" \")\n",
    "    print(mes       , end=\" \")  ## Se puede acceder al valor de la lista de ambas formas\n",
    "    print(meses[indice])        ## Se puede acceder al valor de la lista de ambas formas\n",
    "\n",
    "for i in range(10):\n",
    "    print(i)"
   ]
  },
  {
   "cell_type": "markdown",
   "id": "7f184508-5281-4dc0-abd7-956648d8759f",
   "metadata": {},
   "source": [
    "**Operaciones con Strings**"
   ]
  },
  {
   "cell_type": "code",
   "execution_count": null,
   "id": "ca738d5c-5d24-4572-87dd-6a2326df1cde",
   "metadata": {},
   "outputs": [],
   "source": [
    "string1 = 'Hola'                ## Comillas simples\n",
    "string2 = \"Mundo\"               ## Comillas dobles\n",
    "string3 = \"\"\"Hola\n",
    "Mundo\"\"\"                        ## Comillas Triples (Texto de varias líneas)\n",
    "print(string1, string2)         ## Concatenación de Strings\n",
    "print(string1 + \"\\n\" + string2) ## Concatenación de Strings y Retorno de Carro"
   ]
  },
  {
   "cell_type": "markdown",
   "id": "ffa5a39a-9c49-4428-8e20-754503b8031a",
   "metadata": {},
   "source": [
    "**[Formulación](https://www.camartinezbu.com/posts/la-guia-definitiva-para-escribir-ecuaciones-en-jupyter/#qu%C3%A9-es-mathjax)**"
   ]
  },
  {
   "cell_type": "markdown",
   "id": "4ecaf432-2230-40b0-8484-2d52bdb8fe2d",
   "metadata": {},
   "source": [
    "$Y = (\\sum_{i = 0}^{n} w_{i}x_{i}) + b$ \n",
    "\n",
    "w: peso de la conexión\n",
    "\n",
    "x: valor de la neurona\n",
    "\n",
    "b: sesgo de la capa (es una constante)\n",
    "\n",
    "n: número de conexiones\n",
    "\n",
    "Y: valor de salida de la neurona"
   ]
  },
  {
   "cell_type": "markdown",
   "id": "e2c27879-67a7-421e-8a3e-30cd39a5b625",
   "metadata": {},
   "source": [
    "**Imágenes**"
   ]
  },
  {
   "cell_type": "markdown",
   "id": "c7ed1c94-be55-4a52-8ad7-37b5cb20f565",
   "metadata": {},
   "source": [
    "Insertar una imagen en una celda de Notas:\n",
    "\n",
    "<img src=\"Imágenes\\Ejemplo.png\" width=\"60\"/>\n",
    "\n",
    "Insertar una imagen en una celda de Código:"
   ]
  },
  {
   "cell_type": "code",
   "execution_count": 2,
   "id": "672ce0c6-4dfe-4b67-8ba4-0e53dd3dfda2",
   "metadata": {},
   "outputs": [],
   "source": [
    "from IPython.display import Image"
   ]
  },
  {
   "cell_type": "code",
   "execution_count": 10,
   "id": "5a966ae0-563d-4f0f-9474-bcefc139edeb",
   "metadata": {},
   "outputs": [
    {
     "data": {
      "image/png": "[encoded data removed]",
      "text/plain": [
       "<IPython.core.display.Image object>"
      ]
     },
     "execution_count": 10,
     "metadata": {
      "image/png": {
       "height": 30,
       "width": 60
      }
     },
     "output_type": "execute_result"
    }
   ],
   "source": [
    "Image(\"Imágenes\\Ejemplo.png\", width=60, height=30)"
   ]
  },
  {
   "cell_type": "code",
   "execution_count": null,
   "id": "0eb3b3c4-fd8e-4ee7-9e1d-a57b6e4c6545",
   "metadata": {},
   "outputs": [],
   "source": []
  }
 ],
 "metadata": {
  "kernelspec": {
   "display_name": "Python 3 (ipykernel)",
   "language": "python",
   "name": "python3"
  },
  "language_info": {
   "codemirror_mode": {
    "name": "ipython",
    "version": 3
   },
   "file_extension": ".py",
   "mimetype": "text/x-python",
   "name": "python",
   "nbconvert_exporter": "python",
   "pygments_lexer": "ipython3",
   "version": "3.10.13"
  }
 },
 "nbformat": 4,
 "nbformat_minor": 5
}
