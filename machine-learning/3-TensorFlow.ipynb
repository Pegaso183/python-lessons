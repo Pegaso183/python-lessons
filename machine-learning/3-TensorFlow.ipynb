{
 "cells": [
  {
   "cell_type": "markdown",
   "id": "59724343-33e6-4fe4-adf1-0e4a6172d683",
   "metadata": {},
   "source": [
    "### **[TensorFlow](https://www.tensorflow.org/)** ###"
   ]
  },
  {
   "cell_type": "markdown",
   "id": "46f213d6-dd86-400a-984f-19ac3345fa35",
   "metadata": {},
   "source": [
    "Los tensores son matrices multidimensionales con un tipo uniforme (llamado dtype). Se pueden ver todos los dtypes admitidos en [tf.dtypes.DType](https://www.tensorflow.org/api_docs/python/tf/dtypes/DType). .\n",
    "\n",
    "Todos los tensores son inmutables como los números y las cadenas de Py. Nn: nuse nca puede actualizar el contenido de un tensor, sse olo puede crear uno nu\n",
    "\n",
    "Cada Tensor tiene un tipo de datos, una forma y un rango/grado:\n",
    "* Tipos de datos incluidos: float32, int32, string y otros.\n",
    "* Shape: Representa la longitud de los vectores.\n",
    "* Rango/Grado: Representa el número de dimensiones del tensor."
   ]
  },
  {
   "cell_type": "markdown",
   "id": "d0e8f00b-058a-46cb-98cc-ef1df61e64d8",
   "metadata": {},
   "source": [
    "**Módulos:**"
   ]
  },
  {
   "cell_type": "code",
   "execution_count": 1,
   "id": "6793c9ae-a4fe-49d1-85a6-fd4709c9cf86",
   "metadata": {},
   "outputs": [
    {
     "name": "stdout",
     "output_type": "stream",
     "text": [
      "<module 'tensorflow._api.v2.version' from 'C:\\\\Users\\\\Jairo\\\\anaconda3\\\\envs\\\\TensorFlow\\\\lib\\\\site-packages\\\\tensorflow\\\\_api\\\\v2\\\\version\\\\__init__.py'>\n"
     ]
    }
   ],
   "source": [
    "import tensorflow as tf\n",
    "print(tf.version)"
   ]
  },
  {
   "cell_type": "markdown",
   "id": "3bdf2125-7b3e-4499-9623-66586bb5c059",
   "metadata": {},
   "source": [
    "**Creación de Tensores:**"
   ]
  },
  {
   "cell_type": "code",
   "execution_count": null,
   "id": "d204108a-2b81-4e8f-985f-f3e164df0999",
   "metadata": {},
   "outputs": [],
   "source": [
    "string = tf.Variable(\"Texto\", tf.string)                                                          ## Tensor de grado 0 que contiene Strings\n",
    "number = tf.Variable(324, tf.int16)                                                               ## Tensor de grado 0 que contiene Integer\n",
    "floating = tf.Variable(3.567, tf.float64)                                                         ## Tensor de grado 0 que contiene Float\n",
    "rank1_tensor = tf.Variable([\"Dim11\", \"Dim12\", \"Dim13\"], tf.string)                                ## Tensor de grado 1 que contiene Strings\n",
    "rank2_tensor = tf.Variable([[\"Dim11\", \"Dim12\", \"Dim13\"], [\"Dim21\", \"Dim22\", \"Dim23\"]], tf.string) ## Tensor de grado 2 que contiene Strings\n",
    "\n",
    "print(string)\n",
    "print(number)\n",
    "print(floating)\n",
    "print(rank1_tensor)\n",
    "print(rank2_tensor)"
   ]
  },
  {
   "cell_type": "markdown",
   "id": "b0906566-8b72-4085-90cd-87b6806328de",
   "metadata": {},
   "source": [
    "**Funciones Rank y Shape:**"
   ]
  },
  {
   "cell_type": "code",
   "execution_count": null,
   "id": "4c525019-1308-48bc-8ff3-2463409af0e8",
   "metadata": {},
   "outputs": [],
   "source": [
    "print(tf.rank(rank2_tensor)) ## Devuelve el Grado del Tensor\n",
    "print(rank2_tensor.shape)    ## Devuelve el número de elementos de los vectores contenidos en el Tensor (en este caso, 2 vectores de 3 elementos cada uno) "
   ]
  },
  {
   "attachments": {},
   "cell_type": "markdown",
   "id": "4f426ebe-5a75-4263-a46a-f487610cc94a",
   "metadata": {},
   "source": [
    "**Modificar Shape (número de elementos por vector) de un Tensor:**"
   ]
  },
  {
   "cell_type": "code",
   "execution_count": null,
   "id": "a0442b7f-922c-4a2d-9aec-9392271eb6f8",
   "metadata": {},
   "outputs": [],
   "source": [
    "tensor0 = tf.zeros([1,2,3])            ## Crea un Tensor con Shape (1, 2, 3) relleno con ceros. En este caso, el Tensor con tiene 1 elemento (lista), que contiene 2 elementos (lista), que contienen 3 elementos (float)\n",
    "tensor1 = tf.ones([1,2,3])             ## Crea un Tensor con Shape (1, 2, 3) relleno con unos. En este caso, el Tensor con tiene 1 elemento (lista), que contiene 2 elementos (lista), que contienen 3 elementos (float)\n",
    "tensor2 = tf.reshape(tensor1, [2,3,1]) ## Modifica el Shape de un Tensor. En este caso, pasa de (1, 2, 3) a (2, 3, 1). El Tensor resultante tiene 2 elementos (lista), que contienen 3 elementos (lista), que contienen 1 elemento (float)\n",
    "tensor3 = tf.reshape(tensor2, [3, -1]) ## Modifica el Shape de un Tensor. En este caso, pasa de (2, 3, 1) a (3, 2). Se indica que el Tensor resultante debe tener tres elementos (lista) y el -1 indica que debe calcular el número de elementos (float) dentro de cada lista (el número de elementos resultante será equivalente al número de elementos del Tensor original)\n",
    "print(tensor1)\n",
    "print(tensor2)\n",
    "print(tensor3)"
   ]
  },
  {
   "attachments": {},
   "cell_type": "markdown",
   "id": "c74ef226-9208-4197-a338-1fbb400b7667",
   "metadata": {},
   "source": [
    "**Tipos de Tensores:**\n",
    "* Variable\n",
    "* Constant\n",
    "* Placeholder\n",
    "* SparseTensor\n",
    "Todos los Tensores (excepto los Variable) son inmutables. Sus valores no cambian durante la ejecución."
   ]
  },
  {
   "attachments": {},
   "cell_type": "markdown",
   "id": "dd498ae0-906b-4d7f-b5c5-a88f5eef22fd",
   "metadata": {},
   "source": [
    "**Evaluación de Tensores:** ¡¡¡¡¡¡NO FUNCIONA!!!!!!\n",
    "\n",
    "La evaluación de un Tensor implica obtener su valor. Para realizar dicha evaluación es necesario ejecutar una Sesión.\n",
    "El siguiente código evalua el tensor1 almacenado en el default graph (contiene todas las operaciones que no se especifica que se almacenen en otro graph)."
   ]
  },
  {
   "cell_type": "code",
   "execution_count": null,
   "id": "4839fde0-aae0-4431-b159-dd8ba706d1e0",
   "metadata": {},
   "outputs": [],
   "source": [
    "with tf.Session() as sess: ## Creamos una sesión utilizando default graph\n",
    "    tensor1.eval()         ## Evaluamos el Tensor"
   ]
  }
 ],
 "metadata": {
  "kernelspec": {
   "display_name": "Python 3 (ipykernel)",
   "language": "python",
   "name": "python3"
  },
  "language_info": {
   "codemirror_mode": {
    "name": "ipython",
    "version": 3
   },
   "file_extension": ".py",
   "mimetype": "text/x-python",
   "name": "python",
   "nbconvert_exporter": "python",
   "pygments_lexer": "ipython3",
   "version": "3.10.13"
  }
 },
 "nbformat": 4,
 "nbformat_minor": 5
}
