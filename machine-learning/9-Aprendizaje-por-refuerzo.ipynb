{
  "nbformat": 4,
  "nbformat_minor": 0,
  "metadata": {
    "colab": {
      "provenance": []
    },
    "kernelspec": {
      "name": "python3",
      "display_name": "Python 3"
    },
    "language_info": {
      "name": "python"
    }
  },
  "cells": [
    {
      "cell_type": "markdown",
      "source": [
        "### **Aprendizaje por Refuerzo (Reinforcement Learning)** ###\n",
        "\n",
        "Paradigma de aprendizaje automático en el que un agente aprende a tomar decisiones secuenciales mediante la interacción con un entorno. En este enfoque, el agente toma acciones en un entorno y recibe retroalimentación en forma de recompensas o castigos, lo que guía su aprendizaje para tomar decisiones que maximicen la recompensa acumulada a lo largo del tiempo.\n",
        "\n",
        "**Principales conceptos del aprendizaje por refuerzo**:\n",
        "\n",
        "* Agente: Es la entidad que toma decisiones y realiza acciones en el entorno. Puede ser un programa de computadora, un robot o cualquier sistema capaz de aprender.\n",
        "\n",
        "* Entorno: Es el contexto en el que el agente opera y toma decisiones. Puede ser el mundo físico, un simulador o cualquier sistema con el que el agente interactúa.\n",
        "\n",
        "* Acciones: Son las decisiones que el agente puede tomar en un momento dado. Las acciones tienen un impacto en el entorno y afectan las futuras observaciones y recompensas.\n",
        "\n",
        "* Recompensas: Son señales numéricas que indican la calidad de las acciones tomadas por el agente. El objetivo del agente es maximizar la recompensa acumulada a lo largo del tiempo.\n",
        "\n",
        "* Política: Es la estrategia o el conjunto de reglas que el agente sigue para seleccionar acciones en diferentes estados del entorno.\n",
        "\n",
        "* Valor del Estado y de la Acción: Representan la utilidad estimada de un estado o acción en términos de recompensas futuras esperadas.\n",
        "\n",
        "El aprendizaje por refuerzo se utiliza en una variedad de aplicaciones, como juegos, robótica, control de procesos y toma de decisiones en entornos dinámicos. Los algoritmos de aprendizaje por refuerzo buscan encontrar estrategias óptimas que maximicen la recompensa a largo plazo, incluso en entornos complejos y desconocidos."
      ],
      "metadata": {
        "id": "TugO_ktlZe5Q"
      }
    },
    {
      "cell_type": "markdown",
      "source": [
        "**Q Learning:**\n",
        "\n",
        "Q-Learning es un algoritmo de aprendizaje por refuerzo que se utiliza para aprender una política óptima en entornos discretos y finitos. Este algoritmo se centra en aprender la función de valor de acción (Q) que evalúa la calidad de tomar una acción particular en un estado específico, con el objetivo de maximizar la recompensa acumulada a lo largo del tiempo.\n",
        "\n",
        "Principales conceptos en Q-Learning:\n",
        "\n",
        "* Tabla Q (Q-Table): Es una estructura de datos que almacena los valores Q para todas las combinaciones posibles de estados y acciones en el entorno. Inicialmente, la tabla se inicializa con valores arbitrarios o a cero.\n",
        "\n",
        "* Valor Q (Q-Value): Representa la calidad estimada de tomar una acción específica en un estado particular. Se actualiza a medida que el agente interactúa con el entorno y recibe retroalimentación en forma de recompensas.\n",
        "\n",
        "* Recompensa (Reward): Es la señal numérica que el agente recibe del entorno después de tomar una acción en un estado. La recompensa influye en la actualización de los valores Q.\n",
        "\n",
        "* Exploración vs. Explotación (α): Q-Learning equilibra la exploración (probar nuevas acciones) con la explotación (seleccionar acciones conocidas y con altos valores Q) para descubrir y aprovechar estrategias óptimas.\n",
        "\n",
        "* Factor de Descuento (γ) (Discount Factor) : Es un parámetro que determina la importancia relativa de las recompensas inmediatas frente a las futuras. Un valor cercano a 1 da más peso a las recompensas futuras.\n",
        "\n",
        "El algoritmo Q-Learning sigue un proceso iterativo donde el agente realiza acciones, actualiza los valores Q en la tabla Q, y ajusta su política para maximizar las recompensas acumuladas.\n",
        "\n",
        "Q-Learning es especialmente efectivo en entornos discretos, como juegos de tablero o problemas de control con un número finito de estados y acciones posibles. Sin embargo, su eficacia puede disminuir en entornos más grandes o continuos, donde el uso de métodos más avanzados, como Deep Q-Learning, puede ser más apropiado.\n",
        "\n",
        "**Actualización de Valores Q:**\n",
        "\n",
        "La fórmula para actualizar la Tabla Q tras cada acción es:\n",
        "\n",
        "Q[estado,acción] = Q[estado,acción] + α * (reward + γ * max(Q[nuevoEstado,:]) - Q[estado,acción])\n",
        "\n",
        "A continuación vamos a ver un ejemplo en el que utilizaremos el algoritmo Q-Learning para entrenar a un Agente. Para hacerlo, vamos a utilizar un entorno de [Open AI Gym](https://openai.com/research/openai-gym-beta)."
      ],
      "metadata": {
        "id": "zWk5VflibIv9"
      }
    },
    {
      "cell_type": "markdown",
      "source": [
        "**Módulos:**"
      ],
      "metadata": {
        "id": "GcpWkxyopEK-"
      }
    },
    {
      "cell_type": "code",
      "source": [
        "import gym"
      ],
      "metadata": {
        "id": "D5sngWQHanY9"
      },
      "execution_count": 1,
      "outputs": []
    },
    {
      "cell_type": "markdown",
      "source": [
        "**Carga de un Entorno:**"
      ],
      "metadata": {
        "id": "NKNCpaR2pQJX"
      }
    },
    {
      "cell_type": "code",
      "source": [
        "env = gym.make('FrozenLake-v1')"
      ],
      "metadata": {
        "id": "WOzVybIppM0J"
      },
      "execution_count": null,
      "outputs": []
    },
    {
      "cell_type": "code",
      "source": [
        "env = gym.make('FrozenLake-v1', render_mode = 'human')"
      ],
      "metadata": {
        "id": "j2aQSxuVufkG"
      },
      "execution_count": null,
      "outputs": []
    },
    {
      "cell_type": "markdown",
      "source": [
        "Podemos obtener información sobre el entorno mediante los siguientes comandos."
      ],
      "metadata": {
        "id": "t5vpmF3WqUUY"
      }
    },
    {
      "cell_type": "code",
      "source": [
        "print(env.observation_space.n) # Número de Estados\n",
        "print(env.action_space.n)      # Número de Acciones"
      ],
      "metadata": {
        "id": "MuKPqF-epyr7"
      },
      "execution_count": null,
      "outputs": []
    },
    {
      "cell_type": "code",
      "source": [
        "env.reset() # Reinicializa el entono"
      ],
      "metadata": {
        "colab": {
          "base_uri": "https://localhost:8080/"
        },
        "id": "RWV28y2Cqzjc",
        "outputId": "15e43682-ea47-4ef2-f249-cb545f95f3e6"
      },
      "execution_count": 5,
      "outputs": [
        {
          "output_type": "execute_result",
          "data": {
            "text/plain": [
              "0"
            ]
          },
          "metadata": {},
          "execution_count": 5
        }
      ]
    },
    {
      "cell_type": "code",
      "source": [
        "action = env.action_space.sample() # Devuelve una Acción al azar\n",
        "print(action)"
      ],
      "metadata": {
        "id": "AqaWtkejquMN"
      },
      "execution_count": null,
      "outputs": []
    },
    {
      "cell_type": "code",
      "source": [
        "new_state, reward, done, info = env.step(action) # Ejecuta la acción dada\n",
        "print('Nuevo Estado:',new_state, '| Premio:', reward, '| Finalizado:', done, '| Info:', info)"
      ],
      "metadata": {
        "id": "i7aWNNnJrN_Y"
      },
      "execution_count": null,
      "outputs": []
    },
    {
      "cell_type": "code",
      "source": [
        "env.render() # Renderiza la interfaz gráfica de usuario para el entorno\n",
        "# Ejemplo\n",
        "# SFFF\n",
        "# FHFH\n",
        "# FFFH\n",
        "# HFFG"
      ],
      "metadata": {
        "id": "TTRKFZUvr0uk"
      },
      "execution_count": null,
      "outputs": []
    },
    {
      "cell_type": "markdown",
      "source": [
        "**Entorno del Lago Helado:**\n",
        "\n",
        "El objetivo del Agente es navegar por el Lago Helado y encontrar la salida sin caer a través del hielo.\n",
        "\n",
        "Hay...\n",
        "\n",
        "* 16 estados\n",
        "* 4 acciones posibles (IZQ, DCHA, ARRIBA, ABAJO)\n",
        "* 4 tipos distintos de bloques (F: Helado, H: Agujero, S: Inicio, G: Final)\n",
        "\n",
        "**Construir la TablaQ:**\n",
        "\n",
        "Lo primero que debemos hacer es construir una TablaQ vacía para almacenar y actualizar los Valores Q."
      ],
      "metadata": {
        "id": "YJCz3SB0u7MF"
      }
    },
    {
      "cell_type": "code",
      "source": [
        "import gym\n",
        "import numpy as np\n",
        "import time\n",
        "\n",
        "env = gym.make('FrozenLake-v1')\n",
        "STATES = env.observation_space.n\n",
        "ACTIONS = env.action_space.n"
      ],
      "metadata": {
        "id": "ixTKMLX5wMmb"
      },
      "execution_count": null,
      "outputs": []
    },
    {
      "cell_type": "code",
      "source": [
        "Q = np.zeros((STATES, ACTIONS)) # Creamos una matriz de 0s\n",
        "Q"
      ],
      "metadata": {
        "id": "gYF-0QvaxalN"
      },
      "execution_count": null,
      "outputs": []
    },
    {
      "cell_type": "markdown",
      "source": [
        "Hay que definir algunas constantes que nos servirán para actualizar la TablaQ e indicar a nuestro Agente cuando dejar de entrenar."
      ],
      "metadata": {
        "id": "gE8K_WmNyDky"
      }
    },
    {
      "cell_type": "code",
      "source": [
        "EPISODES = 2000 # Número de veces que se ejecutará el entorno desde el inicio\n",
        "MAX_STEPS = 100 # Número máximo de pasos permitidos en cada ejecución\n",
        "\n",
        "LEARNING_RATE = 0.81 # Tasa de Aprendizaje (α)\n",
        "DISCOUNT_FACTOR = 0.96 # Factor de Descuento (γ)"
      ],
      "metadata": {
        "id": "30ReeSc8xu1y"
      },
      "execution_count": 3,
      "outputs": []
    },
    {
      "cell_type": "markdown",
      "source": [
        "**Selección de Acción:**\n",
        "\n",
        "Podemos utilizar dos métodos para escoger una acción:\n",
        "* Escoger una opción válida al azar.\n",
        "* Usar la TablaQ para encontrar la mejor acción.\n",
        "\n",
        "Vamos a definir un nuevo valor\n",
        "Ɛ que nos indica la probabilidad de seleccionar una acción al azar. Este valor será inicialmente muy elevado e irá disminuyendo al incrementar el conocimiento del agente sobre el entorno."
      ],
      "metadata": {
        "id": "12crkfvUzCc9"
      }
    },
    {
      "cell_type": "code",
      "source": [
        "epsilon = 0.9 # Comenzamos con un 90% de probabilidad de escoger una acción al azar\n",
        "\n",
        "# Método para escoger una Acción\n",
        "if np.random.uniform(0, 1) < epsilon: # Tomamos un valor al azar (0 o 1) y si es menor que epsilon...\n",
        "  action = env.action_space.sample()  # Tomamos una Acción al azar\n",
        "else:\n",
        "  action = np.argmax(Q[state, :])     # Usamos la TablaQ para escoger la mejor Acción posible basada en los valores actuales"
      ],
      "metadata": {
        "colab": {
          "base_uri": "https://localhost:8080/"
        },
        "id": "u9KskXPFzCCo",
        "outputId": "6c72ad96-b7af-4378-ee8d-8e6c4d11628a"
      },
      "execution_count": 4,
      "outputs": [
        {
          "output_type": "stream",
          "name": "stderr",
          "text": [
            "/usr/local/lib/python3.10/dist-packages/ipykernel/ipkernel.py:283: DeprecationWarning: `should_run_async` will not call `transform_cell` automatically in the future. Please pass the result to `transformed_cell` argument and any exception that happen during thetransform in `preprocessing_exc_tuple` in IPython 7.17 and above.\n",
            "  and should_run_async(code)\n"
          ]
        }
      ]
    },
    {
      "cell_type": "markdown",
      "source": [
        "**Actualización de la TablaQ:**\n",
        "\n",
        "Fórmula:\n",
        "Q[estado,acción] = Q[estado,acción] + α * (reward + γ * max(Q[nuevoEstado,:]) - Q[estado,acción])"
      ],
      "metadata": {
        "id": "1fFjLwzy2id6"
      }
    },
    {
      "cell_type": "code",
      "source": [
        "Q[state, action] = Q[state, action] + LEARNING_RATE * (reward + DISCOUNT_FACTOR * np.max(Q[new_state, :]) -Q[state, action])"
      ],
      "metadata": {
        "id": "YphCgSLI2uvj"
      },
      "execution_count": null,
      "outputs": []
    },
    {
      "cell_type": "markdown",
      "source": [
        "**Creación del Algoritmo de Q Learning:**"
      ],
      "metadata": {
        "id": "v0zvBu4X3Qjc"
      }
    },
    {
      "cell_type": "code",
      "source": [
        "import gym\n",
        "import numpy as np\n",
        "import time\n",
        "\n",
        "env = gym.make('FrozenLake-v1')\n",
        "STATES = env.observation_space.n\n",
        "ACTIONS = env.action_space.n\n",
        "\n",
        "Q = np.zeros((STATES, ACTIONS)) # Creamos una matriz de 0s\n",
        "\n",
        "EPISODES = 20000 # Número de veces que se ejecutará el entorno desde el inicio\n",
        "MAX_STEPS = 100  # Número máximo de pasos permitidos en cada ejecución\n",
        "\n",
        "LEARNING_RATE = 0.81 # Tasa de Aprendizaje (α)\n",
        "DISCOUNT_FACTOR = 0.96 # Factor de Descuento (γ)\n",
        "\n",
        "RENDER = False # Si quiero ver el entrenamiento hay que ponerlo a True\n",
        "\n",
        "epsilon = 0.9 # Comenzamos con un 90% de probabilidad de escoger una acción al azar"
      ],
      "metadata": {
        "id": "vAiaNoaL3hl-"
      },
      "execution_count": 23,
      "outputs": []
    },
    {
      "cell_type": "code",
      "source": [
        "rewards = []\n",
        "for episode in range(EPISODES):\n",
        "\n",
        "  state = env.reset() # Reseteamos el entorno\n",
        "  for _ in range(MAX_STEPS):\n",
        "\n",
        "    if RENDER:\n",
        "      env.render()\n",
        "\n",
        "    # Método para escoger una Acción\n",
        "    if np.random.uniform(0, 1) < epsilon: # Tomamos un valor al azar (0 o 1) y si es menor que epsilon...\n",
        "      action = env.action_space.sample()  # Tomamos una Acción al azar\n",
        "    else:\n",
        "      action = np.argmax(Q[state, :])     # Usamos la TablaQ para escoger la mejor Acción posible basada en los valores actuales\n",
        "\n",
        "    next_state, reward, done, info = env.step(action) # Ejecuta la acción dada --> 'Nuevo Estado:',new_state, '| Premio:', reward, '| Finalizado:', done, '| Info:', info\n",
        "\n",
        "    Q[state, action] = Q[state, action] + LEARNING_RATE * (reward + DISCOUNT_FACTOR * np.max(Q[next_state, :]) - Q[state, action])\n",
        "\n",
        "    state = next_state\n",
        "\n",
        "    if done:\n",
        "      rewards.append(reward)\n",
        "      epsilon -= 0.002\n",
        "      break # Juego Completado con Éxito\n",
        "\n",
        "print(Q)\n",
        "print(f'Premio Medio: {sum(rewards)/len(rewards)}:')\n"
      ],
      "metadata": {
        "colab": {
          "base_uri": "https://localhost:8080/"
        },
        "id": "RGgaiX7H4UAb",
        "outputId": "c1af0c1c-5d2c-443a-f6f7-fbf961866d09"
      },
      "execution_count": 24,
      "outputs": [
        {
          "output_type": "stream",
          "name": "stdout",
          "text": [
            "[[1.36199010e-01 8.78808748e-03 9.04275113e-03 8.56409867e-03]\n",
            " [5.15386581e-03 4.68178098e-03 4.35990820e-03 1.86733132e-01]\n",
            " [1.84935170e-03 3.27105645e-03 1.05826179e-03 1.46437891e-01]\n",
            " [8.13081846e-04 3.83189013e-03 9.23330539e-04 9.34386325e-02]\n",
            " [2.16259330e-01 5.04004474e-03 2.90483484e-03 2.42126165e-03]\n",
            " [0.00000000e+00 0.00000000e+00 0.00000000e+00 0.00000000e+00]\n",
            " [3.35536746e-07 6.41735611e-07 1.82111847e-03 2.37935890e-07]\n",
            " [0.00000000e+00 0.00000000e+00 0.00000000e+00 0.00000000e+00]\n",
            " [5.67410403e-03 4.19761327e-03 4.29739827e-03 4.30355786e-01]\n",
            " [1.80627046e-03 2.04622454e-01 2.42262673e-03 1.06489551e-03]\n",
            " [7.96958572e-01 3.40323227e-04 5.01024510e-04 5.93820787e-04]\n",
            " [0.00000000e+00 0.00000000e+00 0.00000000e+00 0.00000000e+00]\n",
            " [0.00000000e+00 0.00000000e+00 0.00000000e+00 0.00000000e+00]\n",
            " [2.38632836e-02 2.14643306e-02 7.31514669e-01 1.03645065e-02]\n",
            " [1.00421917e-01 9.85737025e-01 1.11628877e-01 6.55548812e-02]\n",
            " [0.00000000e+00 0.00000000e+00 0.00000000e+00 0.00000000e+00]]\n",
            "Premio Medio: 0.70255:\n"
          ]
        }
      ]
    },
    {
      "cell_type": "markdown",
      "source": [
        "Podemos visualizar el progreso de aprendizaje y cómo el Agente ha ido mejorando."
      ],
      "metadata": {
        "id": "xLjt8dmj-axT"
      }
    },
    {
      "cell_type": "code",
      "source": [
        "import matplotlib.pyplot as plt\n",
        "\n",
        "def get_average(values):\n",
        "  return sum(values)/len(values)\n",
        "\n",
        "avg_rewards = []\n",
        "for i in range (0, len(rewards), 100):\n",
        "  avg_rewards.append(get_average(rewards[i:i+100]))\n",
        "\n",
        "plt.plot(avg_rewards)\n",
        "plt.ylabel('Premio Medio')\n",
        "plt.xlabel('Episodio')\n",
        "plt.show()"
      ],
      "metadata": {
        "colab": {
          "base_uri": "https://localhost:8080/",
          "height": 449
        },
        "id": "9tYgslSi-mwa",
        "outputId": "f53fb378-0eb3-43d8-c13f-b2fb0e44ad0c"
      },
      "execution_count": 25,
      "outputs": [
        {
          "output_type": "display_data",
          "data": {
            "text/plain": [
              "<Figure size 640x480 with 1 Axes>"
            ],
            "image/png": "[encoded data removed]"
          },
          "metadata": {}
        }
      ]
    },
    {
      "cell_type": "code",
      "source": [],
      "metadata": {
        "id": "uiAszGv9_XT0"
      },
      "execution_count": null,
      "outputs": []
    }
  ]
}