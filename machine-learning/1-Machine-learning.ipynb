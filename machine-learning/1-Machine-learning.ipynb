{
 "cells": [
  {
   "cell_type": "markdown",
   "id": "59724343-33e6-4fe4-adf1-0e4a6172d683",
   "metadata": {},
   "source": [
    "### **Machine Learning** ###"
   ]
  },
  {
   "cell_type": "markdown",
   "id": "46f213d6-dd86-400a-984f-19ac3345fa35",
   "metadata": {},
   "source": [
    "Disciplina del campo de la Inteligencia Artificial que, a través de algoritmos, dota a los ordenadores de la capacidad de identificar patrones en datos masivos y elaborar predicciones (análisis predictivo)."
   ]
  },
  {
   "cell_type": "markdown",
   "id": "663cb0f1-f912-428c-bd70-17bfc690e115",
   "metadata": {},
   "source": [
    "**Tipos de algoritmos para Aprendizaje máquina con TensorFlow:**\n",
    "1. Regresión Lineal\n",
    "2. Clasificación\n",
    "3. Clustering\n",
    "4. Modelo oculto de Markov"
   ]
  },
  {
   "cell_type": "markdown",
   "id": "34b5da3f-5ab6-4d5a-9542-80273f1e622d",
   "metadata": {},
   "source": [
    "**[Regresión Lineal](https://www.tensorflow.org/tutorials/estimator/linear):**\n",
    "\n",
    "Una de las formas más básicas de Machine Learning. Se utiliza para predecir valores numéricos.\n",
    "La regresión lineal sigue el siguiente concepto: si los puntos están relacionados de manera lineal, podemos generar una línea de mejor ajuste (línea recta que se ajusta de manera óptima a un conjunto de datos, de manera que minimiza la suma de los cuadrados de las diferencias verticales entre los puntos de datos reales y los puntos en la línea) y utilizarla para predecir valores futuros.\n",
    "Para dos dimensiones, la ecuación sería y = mx + b\n",
    "Ejemplo visual:"
   ]
  },
  {
   "cell_type": "code",
   "execution_count": 2,
   "id": "605d74a0-4d9a-4489-a9c2-4d446919a2e3",
   "metadata": {},
   "outputs": [
    {
     "name": "stderr",
     "output_type": "stream",
     "text": [
      "Matplotlib is building the font cache; this may take a moment.\n"
     ]
    },
    {
     "data": {
      "image/png": "[encoded data removed]",
      "text/plain": [
       "<Figure size 640x480 with 1 Axes>"
      ]
     },
     "metadata": {},
     "output_type": "display_data"
    }
   ],
   "source": [
    "import matplotlib.pyplot as plt   ## Manipulación de Gráficos\n",
    "import numpy as np\n",
    "\n",
    "x = [1, 2, 2.5, 3, 4]                                                ## Vector de valores de datos del eje x\n",
    "y = [1, 4, 7, 9, 15]                                                 ## Vector de valores de datos del eje y\n",
    "plt.plot(x, y, 'ro')                                                 ## Crea los puntos (x, y) de los vectores de entrada \n",
    "plt.axis([0, 5, 0, 16])                                              ## Define la medida del área del gráfico x = (0, 5), y = (0, 16)\n",
    "plt.plot(np.unique(x), np.poly1d(np.polyfit(x, y, 1))(np.unique(x))) ## Calcula la Línea de Mejor Ajuste\n",
    "plt.show()                                                           ## Dibuja el gráfico definido (en este caso, es el gráfico por defecto)"
   ]
  },
  {
   "cell_type": "markdown",
   "id": "90fefa28-c227-4f63-b4d5-b33e94ba166f",
   "metadata": {},
   "source": [
    "En el siguiente ejemplo, vamos a utilizar un modelo Lineal para predecir el % de supervivientes del Titanic."
   ]
  },
  {
   "attachments": {},
   "cell_type": "markdown",
   "id": "8a35d5a4-bb47-4ffa-a427-c5aaa3359fb8",
   "metadata": {},
   "source": [
    "**Módulos:**\n",
    "\n",
    "* __ future __ --> Permite a los desarrolladores utilizar características que se introducirán en futuras versiones de Python antes de que estas características se conviertan en el comportamiento predeterminado.\n",
    "* numpy --> Realizar operaciones numéricas y manipulación de datos en arreglos multidimensionales (manipulación de Arrays).\n",
    "* pandas --> Proporciona estructuras de datos flexibles y herramientas de manipulación de datos que facilitan la limpieza, exploración y análisis de conjuntos de datos.\n",
    "* matplotlib.pyplot --> Manipulación de Gráficos\n",
    "* scikit-learn --> Conjunto de rutinas escritas en Python para hacer análisis predictivo, que incluyen clasificadores, algoritmos de clusterización, etc."
   ]
  },
  {
   "cell_type": "code",
   "execution_count": 5,
   "id": "dc50b99c-0de1-47fd-840c-62d03eba2651",
   "metadata": {
    "tags": []
   },
   "outputs": [],
   "source": [
    "from __future__ import absolute_import, division, print_function, unicode_literals\n",
    "\n",
    "import numpy as np\n",
    "import pandas as pd\n",
    "import matplotlib.pyplot as plt          ## Manipulación de Gráficos\n",
    "from IPython.display import clear_output ## Limpieza de celdas de salida en entornos interactivos como JupyterLab\n",
    "from six.moves import urllib             ## Funcionalidades de manejo de URL sin preocuparte por las diferencias entre las versiones de Python.    \n",
    "\n",
    "import tensorflow as tf\n",
    "import tensorflow.compat.v2.feature_column as fc"
   ]
  },
  {
   "attachments": {},
   "cell_type": "markdown",
   "id": "333b7632-a855-40d0-8574-394c52ba5aad",
   "metadata": {},
   "source": [
    "**Cargar datos de entrada:**"
   ]
  },
  {
   "cell_type": "code",
   "execution_count": null,
   "id": "70a771d9-a78f-4e80-ba45-562557606cf2",
   "metadata": {},
   "outputs": [],
   "source": [
    "## Carga del Dataset con \"pandas\"\n",
    "dftrain = pd.read_csv('https://storage.googleapis.com/tf-datasets/titanic/train.csv') ## Datos de Entrenamiento\n",
    "dfeval  = pd.read_csv('https://storage.googleapis.com/tf-datasets/titanic/eval.csv')  ## Datos de Evaluación\n",
    "print(dftrain.head())                                                                 ## Visualizar cabeceras y primeros registros\n",
    "y_train = dftrain.pop('survived')                                                     ## Eliminamos la Etiqueta o valor a predecir del Dataset inicial\n",
    "y_eval  = dfeval.pop('survived')                                                      ## Eliminamos la Etiqueta o valor a predecir del Dataset inicial\n",
    "print(dftrain.head()) \n",
    "print(y_train)                                                                        ## Visualizar Dataset y número de registros\n",
    "print(dftrain.loc[0], y_train.loc[0])                                                 ## Visualizar registros concretos datos su identificador de línea\n",
    "print(dftrain[\"age\"])                                                                 ## Visualizar columna concreta del Dataset\n",
    "print(dftrain[\"age\"].unique())                                                        ## Visualizar valores únicos de una columna concreta"
   ]
  },
  {
   "cell_type": "code",
   "execution_count": null,
   "id": "f2edefd1-da4c-49a2-9207-28ff16709087",
   "metadata": {},
   "outputs": [],
   "source": [
    "dftrain.head() ## Visualizar cabeceras y primeros registros"
   ]
  },
  {
   "cell_type": "code",
   "execution_count": null,
   "id": "3bcf9404-ac17-4f65-ad2e-fc4b7ef9e4fd",
   "metadata": {},
   "outputs": [],
   "source": [
    "dftrain.describe() ## Análisis del Dataset"
   ]
  },
  {
   "cell_type": "code",
   "execution_count": null,
   "id": "96eab33d-ae25-433d-8f55-a582836815aa",
   "metadata": {},
   "outputs": [],
   "source": [
    "dftrain.shape ## Número de Registros y Número de Columnas"
   ]
  },
  {
   "attachments": {},
   "cell_type": "markdown",
   "id": "ae8d0325-4d66-40a7-ae9d-06a4bebd994c",
   "metadata": {},
   "source": [
    "**Visualización de distintos aspectos de los datos de entrada:**\n"
   ]
  },
  {
   "cell_type": "code",
   "execution_count": null,
   "id": "2c9e5838-7157-43ca-965f-baf9682b95ab",
   "metadata": {},
   "outputs": [],
   "source": [
    "dftrain.age.hist(bins=20) ## Histograma de la columna \"age\" (x = \"age\", y = número de registros)"
   ]
  },
  {
   "cell_type": "code",
   "execution_count": null,
   "id": "39da79e8-0449-467d-b62d-49badeb63176",
   "metadata": {},
   "outputs": [],
   "source": [
    "dftrain.sex.value_counts().plot(kind='barh') ## Gráfico de barras horizontales que muestra la cantidad de valores de cada tipo"
   ]
  },
  {
   "cell_type": "code",
   "execution_count": null,
   "id": "741d7537-4b32-4657-b34f-a95726177704",
   "metadata": {},
   "outputs": [],
   "source": [
    "dftrain['class'].value_counts().plot(kind='barh') ## Gráfico de barras horizontales que muestra la cantidad de valores de cada tipo"
   ]
  },
  {
   "cell_type": "code",
   "execution_count": null,
   "id": "d7271cab-40e6-4e7c-99fa-f029569d6c3c",
   "metadata": {},
   "outputs": [],
   "source": [
    "pd.concat([dftrain, y_train], axis=1).groupby('sex').survived.mean().plot(kind='barh').set_xlabel('% survive') ## Muestra el porcentaje de personas supervivientes por Sexo"
   ]
  },
  {
   "attachments": {},
   "cell_type": "markdown",
   "id": "4198a0fd-6c3c-4572-bb1d-ac84787ae73b",
   "metadata": {},
   "source": [
    "**Dataset de Entrenamiento vs Dataset de Evaluación:**\n"
   ]
  },
  {
   "cell_type": "code",
   "execution_count": null,
   "id": "4c92d001-db4f-48ab-a4a5-d7504b557aad",
   "metadata": {},
   "outputs": [],
   "source": [
    "print(dftrain.shape) ## Número de Registros y Número de Columnas\n",
    "print(dfeval.shape)  ## Número de Registros y Número de Columnas"
   ]
  },
  {
   "cell_type": "code",
   "execution_count": null,
   "id": "adb34716-df4f-4dc3-9b8b-5e2e25b7cbc8",
   "metadata": {},
   "outputs": [],
   "source": [
    "categorical_columns = [\"sex\", \"n_siblings_spouses\", \"parch\", \"class\", \"deck\", \"embark_town\", \"alone\"] ## Columnas de Características\n",
    "numeric_columns = [\"age\", \"fare\"]                                                                     ## Columnas Numéricas\n",
    "\n",
    "feature_columns = []\n",
    "for feature_name in categorical_columns:                                                                        ## Por cada columna en la lista de Categorías\n",
    "    vocabulary = dftrain[feature_name].unique()                                                                 ## Recuperamos todos los valores únicos de la columna actual\n",
    "    feature_columns.append(tf.feature_column.categorical_column_with_vocabulary_list(feature_name, vocabulary)) ## Incluimos la información de la columna en la lista \"feature_columns\"\n",
    "\n",
    "for feature_name in numeric_columns:                                                                            ## Por cada columna en la lista de Numéricas\n",
    "    feature_columns.append(tf.feature_column.numeric_column(feature_name, dtype=tf.float32))                    ## Incluimos la información de la columna en la lista \"feature_columns\"\n",
    "\n",
    "print(feature_columns)"
   ]
  },
  {
   "attachments": {},
   "cell_type": "markdown",
   "id": "3405257d-1019-40f6-8cb7-be700b598be9",
   "metadata": {},
   "source": [
    "**Proceso de Entrenamiento:**\n",
    "1. Carga de datos de entrada en el Modelo.\n",
    "\n",
    "Con el Modelo que vamos a utilizar, no se pasa todo el Dataset completo, si no que se pasan lotes de 32. De echo, vamos a pasar estos lotes varias veces, tantas como Épocas.\n",
    "\n",
    "Una Época es una transferencia completa de nuestro Dataset de entrada.\n",
    "\n",
    "Como debemos cargar los datos en el Modelo en lotes y varias veces, necesitamos una función de carga (imput function) para convertir nuestro Dataset en lotes en cada Época.\n",
    "\n",
    "Función de Entrada: El [modelo que vamos a utilizar](https://www.tensorflow.org/tutorials/estimator/linear) requiere los datos de entrada como objetos \"tf.data.Dataset\". La función de entrada debe convertir nuestro DataFrame de pandas a este tipo de objeto (partiendo en Épocas y lotes)."
   ]
  },
  {
   "cell_type": "code",
   "execution_count": null,
   "id": "bc2a1d40-12bc-4672-a291-3b969155309d",
   "metadata": {},
   "outputs": [],
   "source": [
    "## data_df: Columnas de características\n",
    "## label_df: Columnas de Etiquetas (Resultados)\n",
    "## num_epochs: Número de Épocas que entrenará el Modelo\n",
    "## training: Indica si se utiliza la función para entrenamiento o evaluación\n",
    "## batch_size: Número de elementos de los Lotes de entrada para el Modelo\n",
    "def make_input_fn(data_df, label_df, num_epochs=2, training=True, batch_size=32):\n",
    "    def input_function():                                                         ## Función que se crea y será devuelta como resultado\n",
    "        ds = tf.data.Dataset.from_tensor_slices((dict(data_df), label_df))        ## Creamos un objeto de tipo \"tf.data.Dataset\" con los datos de entrada\n",
    "        if training:\n",
    "            ds = ds.shuffle(1000)                                                 ## Orden aleatorio de los datos\n",
    "        ds = ds.batch(batch_size).repeat(num_epochs)                              ## Partimos el Dataset de entrada en lotes de 32 elementos y repetimos la operación para cada época\n",
    "        return ds\n",
    "    return input_function"
   ]
  },
  {
   "attachments": {},
   "cell_type": "markdown",
   "id": "635f2272-e5db-4487-aa3b-d7c4235b4165",
   "metadata": {},
   "source": [
    "2. Creación del Modelo: Estimador Linel"
   ]
  },
  {
   "cell_type": "code",
   "execution_count": null,
   "id": "e2cab820-d037-49b3-8bdb-125026650948",
   "metadata": {},
   "outputs": [],
   "source": [
    "linear_est = tf.estimator.LinearClassifier(feature_columns=feature_columns)"
   ]
  },
  {
   "attachments": {},
   "cell_type": "markdown",
   "id": "81018eb2-e3b3-4bf1-9d80-b95b981a6340",
   "metadata": {},
   "source": [
    "3. Entrenamiento del Modelo"
   ]
  },
  {
   "cell_type": "code",
   "execution_count": null,
   "id": "3f9a6bf4-76fc-4685-abcb-c26895d8cee2",
   "metadata": {},
   "outputs": [],
   "source": [
    "train_input_fn = make_input_fn(dftrain, y_train)\n",
    "linear_est.train(train_input_fn)"
   ]
  },
  {
   "attachments": {},
   "cell_type": "markdown",
   "id": "3eaea75e-c0dd-49ad-915b-de7d2f602a63",
   "metadata": {},
   "source": [
    "4. Evaluación del Modelo"
   ]
  },
  {
   "cell_type": "code",
   "execution_count": null,
   "id": "95be63f3-cd04-40e0-808f-6a15c4d33406",
   "metadata": {},
   "outputs": [],
   "source": [
    "eval_input_fn = make_input_fn(dfeval, y_eval, num_epochs=1, training=False)\n",
    "result = linear_est.evaluate(eval_input_fn)\n",
    "clear_output()\n",
    "print(result['accuracy'])"
   ]
  },
  {
   "attachments": {},
   "cell_type": "markdown",
   "id": "168b4b28-8dc4-431c-b134-357da8ecd2c5",
   "metadata": {},
   "source": [
    "Podemos revisar casos concretos si lo deseamos"
   ]
  },
  {
   "cell_type": "code",
   "execution_count": null,
   "id": "50602352-132e-43be-940d-363fb8ab06eb",
   "metadata": {},
   "outputs": [],
   "source": [
    "result = list(linear_est.predict(eval_input_fn)) ## Predicción registro por registro\n",
    "clear_output()\n",
    "print(dfeval.loc[0])                 ## Datos del registro N del Dataset de evaluación\n",
    "print(y_eval.loc[0])                 ## Resultado del registro N del Dataset de evaluación.\n",
    "print(result[0]['probabilities'][1]) ## Probabilidad de vivir según la predicción del Modelo"
   ]
  },
  {
   "cell_type": "markdown",
   "id": "9e456a2f-214b-4e73-8971-0a6bccca830d",
   "metadata": {},
   "source": [
    "**[Clasificación](https://www.tensorflow.org/tutorials/estimator/premade):**\n",
    "\n",
    "Se utiliza para separar datos de entrada en Clases de distintas Etiquetas.\n",
    "\n",
    "En el siguiente ejemplo, vamos a clasificar Flores.\n",
    "Los datos de entrada (Dataset) que vamos a utilizar separa las Flores en Setosa(0), Versicolor(1) y Virginica(2). Aporta los siguientes datos para cada Flor:\n",
    "* Longitud del sépalo\n",
    "* Anchura del sépalo\n",
    "* Longitud del pétalo\n",
    "* Anchura del pétaloalo"
   ]
  },
  {
   "attachments": {},
   "cell_type": "markdown",
   "id": "99fe99d1-fed1-4ab2-82ac-0496468af0e3",
   "metadata": {},
   "source": [
    "**Módulos:** (Importados en el apartado previo)\n",
    "\n",
    "* __ future __\n",
    "* tensorflow\n",
    "* pandas"
   ]
  },
  {
   "cell_type": "code",
   "execution_count": null,
   "id": "d44d14f8-cc5a-4dc4-bfe0-18c9e23481d4",
   "metadata": {},
   "outputs": [],
   "source": [
    "CSV_COLUMN_NAMES = ['SepalLength', 'SepalWidth', 'PetalLength', 'PetalWidth', 'Species'] ## Lista con las columnas del Dataset\n",
    "SPECIES = ['Setosa', 'Versicolor', 'Virginica']                                          ## Lista con las posibles Clasificaciones\n"
   ]
  },
  {
   "attachments": {},
   "cell_type": "markdown",
   "id": "f4891f76-ae4a-4fe2-ba53-690e587c78a2",
   "metadata": {},
   "source": [
    "**Cargar datos de entrada:**"
   ]
  },
  {
   "cell_type": "code",
   "execution_count": null,
   "id": "f5ea59cc-9599-4b70-91d1-3f7b32bc7e1d",
   "metadata": {},
   "outputs": [],
   "source": [
    "## Carga del Dataset con \"keras\" y \"pandas\"\n",
    "train_path = tf.keras.utils.get_file(\n",
    "    \"iris_training.csv\", \"https://storage.googleapis.com/download.tensorflow.org/data/iris_training.csv\")\n",
    "test_path = tf.keras.utils.get_file(\n",
    "    \"iris_test.csv\", \"https://storage.googleapis.com/download.tensorflow.org/data/iris_test.csv\")\n",
    "\n",
    "train = pd.read_csv(train_path, names=CSV_COLUMN_NAMES, header=0)\n",
    "test = pd.read_csv(test_path, names=CSV_COLUMN_NAMES, header=0)\n",
    "\n",
    "print(train.head())            ## Visualizar cabeceras y primeros registros\n",
    "train_y = train.pop('Species') ## Eliminamos la Etiqueta o valor a predecir del Dataset inicial\n",
    "test_y  = test.pop('Species')  ## Eliminamos la Etiqueta o valor a predecir del Dataset inicial\n",
    "print(train.head()) \n",
    "print(train.keys())"
   ]
  },
  {
   "attachments": {},
   "cell_type": "markdown",
   "id": "6eac3d6f-3a5b-4c38-94c2-67c4ba93ae67",
   "metadata": {},
   "source": [
    "**Dataset de Entrenamiento vs Dataset de Evaluación:**\n"
   ]
  },
  {
   "cell_type": "code",
   "execution_count": null,
   "id": "080b4c5f-4767-4b19-bc12-9a1124ae6411",
   "metadata": {},
   "outputs": [],
   "source": [
    "print(train.shape) ## Número de Registros y Número de Columnas\n",
    "print(test.shape)  ## Número de Registros y Número de Columnas"
   ]
  },
  {
   "cell_type": "markdown",
   "id": "a271eb99-7225-475d-96c4-77a4f00c5995",
   "metadata": {},
   "source": [
    "**Proceso de Entrenamiento:**\n",
    "\n",
    "Definimos un Modelo usando un Estimador de TensorFlow. Un estimador es cualquier clase derivada de \"tf.estimator.Estimator\".\n",
    "\n",
    "Tareas a realizar:\n",
    "\n",
    "* Crear función de entrada (imput function).\n",
    "* Definir las columnas de características del modelo.\n",
    "* Crear una instancia de un Estimador, especificando las columnas de características y varios hiperparámetros.\n",
    "* Llamar a uno o más métodos en el objeto Estimator, pasando la función de entrada adecuada como fuente de los datos."
   ]
  },
  {
   "cell_type": "markdown",
   "id": "2bab9e8d-1925-49c8-9b98-878c3f2dfd44",
   "metadata": {},
   "source": [
    "**Función de Entrada:**\n",
    "\n",
    "El [modelo que vamos a utilizar](https://www.tensorflow.org/tutorials/estimator/premade) requiere los datos de entrada como objetos \"tf.data.Dataset\". La función de entrada debe convertir nuestro DataFrame de pandas a este tipo de objeto (partiendo en Épocas y lotes)."
   ]
  },
  {
   "cell_type": "code",
   "execution_count": null,
   "id": "39235761-4fe4-48c7-93bc-ca51941e67b1",
   "metadata": {},
   "outputs": [],
   "source": [
    "## features: Columnas de características\n",
    "## labels: Columnas de Etiquetas (Resultados)\n",
    "## training: Indica si se utiliza la función para entrenamiento o evaluación\n",
    "## batch_size: Número de elementos de los Lotes de entrada para el Modelo\n",
    "def input_fn(features, labels, training=True, batch_size=256):\n",
    "    dataset = tf.data.Dataset.from_tensor_slices((dict(features), labels)) ## Creamos un objeto de tipo \"tf.data.Dataset\" con los datos de entrada\n",
    "    if training:\n",
    "        dataset = dataset.shuffle(1000).repeat()                           ## Orden aleatorio de los datos                                  \n",
    "    return dataset.batch(batch_size)                                       ## Partimos el Dataset de entrada en lotes de 256 elementos"
   ]
  },
  {
   "cell_type": "markdown",
   "id": "8ec7d0d8-83fe-40d0-bc81-43caceea5eec",
   "metadata": {},
   "source": [
    "**Columnas de características:**\n",
    "\n",
    "Una columna de características es un objeto que describe cómo el modelo debe usar los datos de entrada sin procesar del diccionario de características. Cuando crea un modelo de Estimator, le pasa una lista de columnas de características que describen cada una de las características que desea que use el modelo. El módulo \"tf.feature_column\" proporciona muchas opciones para representar datos en el modelo. En este caso, todos los valores de entrada son numéricos; por tanto, no es necesario trabajar con vocabularios."
   ]
  },
  {
   "cell_type": "code",
   "execution_count": null,
   "id": "c2f2bccc-5b8d-4ad3-84c9-1ab3d8534b76",
   "metadata": {},
   "outputs": [],
   "source": [
    "my_feature_columns = []\n",
    "for key in train.keys():                                                  ## Para cada Columna del DataFrame\n",
    "    my_feature_columns.append(tf.feature_column.numeric_column(key=key))  ## La cargamos en la lista de Columnas de Características"
   ]
  },
  {
   "cell_type": "markdown",
   "id": "03f7ae90-2e49-4390-bcf4-5f3802aaef57",
   "metadata": {},
   "source": [
    "**Costrucción del Modelo:**\n",
    "\n",
    "TensorFlow proporciona varios Estimadores clasificadores prefabricados, que incluyen:\n",
    "\n",
    "* tf.estimator.DNNClassifier (Deep Neural Network) para modelos profundos que realizan clasificación multiclase.\n",
    "* tf.estimator.LinearClassifier para clasificadores basados ​​en modelos lineales.\n",
    "* tf.estimator.DNNLinearCombinedClassifier para modelos amplios y profundos.\n",
    "\n",
    "Para el problema de Iris, tf.estimator.DNNClassifier parece ser la mejor opción."
   ]
  },
  {
   "cell_type": "code",
   "execution_count": null,
   "id": "e5163d68-7b9c-491e-bfc9-113839178134",
   "metadata": {},
   "outputs": [],
   "source": [
    "# Construimos una Red Neuronal Profunda (DNN) con 2 capas ocultas de 30 y 10 nodes respectivamente. Debe clasificar en tres clases.\n",
    "classifier = tf.estimator.DNNClassifier(\n",
    "    feature_columns=my_feature_columns,\n",
    "    hidden_units=[30, 10],\n",
    "    n_classes=3)"
   ]
  },
  {
   "cell_type": "markdown",
   "id": "35dd1c28-8f56-4dea-948a-cd57fb35cce0",
   "metadata": {},
   "source": [
    "**Entrenamiento del Modelo:**\n",
    "\n",
    "En el siguiente código, se envuelve la llamada a la función \"input_fn\" en una **lambda** para capturar los argumentos mientras proporciona una función de entrada que no toma argumentos, como lo espera el Estimador. El argumento de steps le dice al método que detenga el entrenamiento después de una serie de pasos de entrenamiento.\n",
    "\n",
    "Por ejemplo, se podría escribir el siguiente código:\n",
    "\n",
    "x = lambda: print(\"Hola\")\n",
    "\n",
    "x()"
   ]
  },
  {
   "cell_type": "code",
   "execution_count": null,
   "id": "be543236-50c5-4b1c-baf5-4183eb631e1c",
   "metadata": {},
   "outputs": [],
   "source": [
    "classifier.train(\n",
    "    input_fn=lambda: input_fn(train, train_y, training=True),\n",
    "    steps=5000)"
   ]
  },
  {
   "cell_type": "markdown",
   "id": "18acfeeb-5b40-40c1-bb26-bd16cf373dba",
   "metadata": {},
   "source": [
    "**Evaluación del Modelo:**"
   ]
  },
  {
   "cell_type": "code",
   "execution_count": null,
   "id": "ea9d3252-530a-45f4-8233-5f09900019b8",
   "metadata": {},
   "outputs": [],
   "source": [
    "eval_result = classifier.evaluate(\n",
    "    input_fn=lambda: input_fn(test, test_y, training=False))\n",
    "\n",
    "print('\\nTest set accuracy: {accuracy:0.3f}\\n'.format(**eval_result))"
   ]
  },
  {
   "cell_type": "markdown",
   "id": "9ec4477f-834a-4159-b73e-b54b1e79bcb6",
   "metadata": {},
   "source": [
    "**Prediciones con el Modelo:**\n",
    "\n",
    "Ahora se puede usar el modelo entrenado para predecir la especie de una flor de iris en función de algunas medidas no etiquetadas."
   ]
  },
  {
   "cell_type": "code",
   "execution_count": null,
   "id": "4d083229-17a3-4c8c-9d43-c2a28861d86f",
   "metadata": {},
   "outputs": [],
   "source": [
    "# Igual que la función de entrada, pero sin etiquetas\n",
    "def input_fn(features, batch_size=256):\n",
    "    return tf.data.Dataset.from_tensor_slices(dict(features)).batch(batch_size)\n",
    "\n",
    "features = ['SepalLength', 'SepalWidth', 'PetalLength', 'PetalWidth']\n",
    "predict = {}\n",
    "\n",
    "print(\"Introduce el valor solicitado en formato x.y\")\n",
    "for feature in features:\n",
    "    valid = True\n",
    "    while valid:\n",
    "        val = input(feature + \": \")\n",
    "        if not val.isdigit(): valid = False\n",
    "\n",
    "    predict[feature] = [float(val)]\n",
    "\n",
    "predictions = classifier.predict(input_fn=lambda: input_fn(predict))\n",
    "for pred_dict in predictions:\n",
    "    print(pred_dict)\n",
    "    class_id = pred_dict['class_ids'][0]\n",
    "    print(class_id)\n",
    "    probability = pred_dict['probabilities'][class_id]\n",
    "    print(probability)\n",
    "\n",
    "    print('Prediction is \"{}\" ({:.1f}%)'.format(\n",
    "        SPECIES[class_id], 100 * probability))"
   ]
  },
  {
   "cell_type": "markdown",
   "id": "496a7fc3-8e2f-4077-bb36-c898af93436b",
   "metadata": {},
   "source": [
    "**[Clustering](https://towardsdatascience.com/the-5-clustering-algorithms-data-scientists-need-to-know-a36d136ef68):**\n",
    "\n",
    "Clustering es una técnica de Machine Learning que trabaja en la agrupación de Puntos de Datos. En teoría, aquellos puntos que estén en el mismo grupo, deberían tener propiedades y/o características similares.\n",
    "\n",
    "KMeans es un algoritmo de aprendizaje no supervisado utilizado para el análisis de clústeres. Su objetivo principal es agrupar un conjunto de datos en k clústeres basándose en similitudes entre las muestras."
   ]
  },
  {
   "cell_type": "markdown",
   "id": "c61d4263-d152-4c05-acea-f7667f4982ca",
   "metadata": {},
   "source": [
    "**Algoritmo K-Means Clustering:**\n",
    "\n",
    "1. Coger K puntos para colocar K centroides.\n",
    "2. Asignar todos los puntos a los centroides por distancia. Cada punto queda asignado al centroide más cercano.\n",
    "3. Encontrar el punto medio (centro de masa) de todos los puntos pertenecientes a cada centroide. Colocar los centroides en cada uno de los puntos medios.\n",
    "4. Reasignar todos los puntos de nuevo a los centroides por distancia.\n",
    "5. Repetir los puntos 3-4 hasta que ningún punto cambie el centroide al que pertenece."
   ]
  },
  {
   "cell_type": "markdown",
   "id": "74aefaa0-4c58-4985-bd76-52d7bbf32ee8",
   "metadata": {},
   "source": [
    "NO TENGO UN EJEMPLO SOBRE CÓDIGO PARA CUSTERING"
   ]
  },
  {
   "cell_type": "markdown",
   "id": "8c55c5e3-3360-4dcf-8a7a-52555352ceac",
   "metadata": {},
   "source": [
    "**[Modelo Oculto de Marcov](https://www.tensorflow.org/probability/api_docs/python/tfp/distributions/HiddenMarkovModel):**\n",
    "\n",
    "El Modelo Oculto de Marcov es un conjunto finito de estados, cada uno de los cuales está asociado con una distribución de probabilidades (generalmente multidimensional). Las transiciones entre los estados están gobernadas por un conjunto de probabilidades llamadas \"Probabilidades de Transición\".\n",
    "\n",
    "El modelo trabaja con probailidades para predecir eventos o estados futuros. En el siguiente ejemplo creamos un Modelo oculto de Marcov para predecir el tiempo."
   ]
  },
  {
   "cell_type": "markdown",
   "id": "b381eecc-3bae-457c-86af-4f54e7fb9dc1",
   "metadata": {},
   "source": [
    "**Datos de entrada:**\n",
    "\n",
    "Para trabajar con un Modelo Oculto de Marcov sólo nos interesan las distribuciones de probabilidades que tengan que ver con las transiciones entre los distintos estados. A continuación se muestran los componentes del modelo:\n",
    "\n",
    "* **Estados**: Conjunto finito de Estados. Estos estados están ocultos; es decir, no los observamos directamente. Ejemplos (\"calido\"/\"frio\") o (\"alto\"/\"bajo\") o (\"rojo\"/\"verde\"/\"azul\").\n",
    "* **Observaciones**: Cada estado tiene una observación asociada, basada en una distribución de probabilidades. Ejemplo (En un día calido Tim tiene un 80% de probabilidades de estar feliz y un 20% de estar triste).\n",
    "* **Transiciones**: Cada estado tendrá una probabilidad de transición a un estado diferente. Ejemplo (un día frío tiene un 30% de probabilidad de dar paso a un día calido y un 70% de probabilidad de dar paso a otro día frío)."
   ]
  },
  {
   "cell_type": "markdown",
   "id": "145bafc1-2f3b-43b0-aa7c-74a0b6486e6d",
   "metadata": {},
   "source": [
    "**Módulos:**"
   ]
  },
  {
   "cell_type": "code",
   "execution_count": 7,
   "id": "c4c912a4-adf5-4f82-afe3-d0d75f438e96",
   "metadata": {},
   "outputs": [],
   "source": [
    "import tensorflow_probability as tfp\n",
    "import tensorflow as tf"
   ]
  },
  {
   "cell_type": "markdown",
   "id": "c7f319b6-552a-466f-b752-d10493ab6ca6",
   "metadata": {},
   "source": [
    "**Módelo del Clima:**\n",
    "\n",
    "Vamos a modelar un sistema simple de Clima y tratar de predecir la temperatura de cada día dada la siguiente información:\n",
    "1. Los días fríos se codifican como 0 y los cálidos como 1.\n",
    "2. El primer día de nuestra secuencia tiene 80% de probabilidad de ser frío.\n",
    "3. Un día frío tiene un 30% de probabilidad de dar paso a un día calido.\n",
    "4. Un día cálido tiene un 20% de probabilidad de dar paso a un día frío.\n",
    "5. Cada día la temperatura está distribuida de forma normal; es decir, con una desviación estandar de 0 y 5 en un día frío y de 15 y 10 en un día calido. Desviación estandar (en este ejemplo, la temperatura media en un día calido sería de 15 grados y un rango de min 5 max 25)."
   ]
  },
  {
   "cell_type": "code",
   "execution_count": null,
   "id": "64e526d4-80b6-449a-a64a-cb24dcd7fe23",
   "metadata": {},
   "outputs": [],
   "source": [
    "tfd = tfp.distributions                                                # Para no tener que escribir siempre tfp.distributions\n",
    "initial_distribution = tfd.Categorical(probs=[0.8, 0.2])               # Se refiere al punto 2 de la descripción (asignamos primero la probabilidad de frío y segundo la probabilidad de calido)\n",
    "transition_distribution = tfd.Categorical(probs=[[0.7, 0.3],           # Se refiere al punto 3 de la descripción (asignamos primero la probabilidad de frío y segundo la probabilidad de calido)\n",
    "                                                [0.2, 0.8]])           # Se refiere al punto 4 de la descripción (asignamos primero la probabilidad de frío y segundo la probabilidad de calido)\n",
    "observation_distribution = tfd.Normal(loc=[0., 15.], scale=[5., 10.])  # Se refiere al punto 5 de la descripción... loc (Media) y Scale (Desviación Estandar) (asignamos primero los valores para frío y segundo los valores para calido)\n",
    "\n",
    "model = tfd.HiddenMarkovModel(\n",
    "    initial_distribution = initial_distribution,\n",
    "    transition_distribution = transition_distribution,\n",
    "    observation_distribution = observation_distribution,\n",
    "    num_steps = 7) # El número de pasos representa los días que queremos predecir"
   ]
  },
  {
   "cell_type": "markdown",
   "id": "e5481c0f-061b-4266-a68c-a8f4f0c2a410",
   "metadata": {},
   "source": [
    "**Ejecución del Modelo:**\n",
    "\n",
    "Ejecutamos el modelo para predecir el tiempo (grados) que hará en los próximos 7 días."
   ]
  },
  {
   "cell_type": "code",
   "execution_count": null,
   "id": "71ffa1fd-6343-452d-b926-987e7267f854",
   "metadata": {},
   "outputs": [],
   "source": [
    "mean = model.mean()\n",
    "with tf.compat.v1.Session() as sess:\n",
    "    print(mean.numpy())"
   ]
  },
  {
   "cell_type": "code",
   "execution_count": null,
   "id": "fd76a0e7-8f62-4690-a3b1-257f48282beb",
   "metadata": {},
   "outputs": [],
   "source": []
  }
 ],
 "metadata": {
  "kernelspec": {
   "display_name": "Python 3 (ipykernel)",
   "language": "python",
   "name": "python3"
  },
  "language_info": {
   "codemirror_mode": {
    "name": "ipython",
    "version": 3
   },
   "file_extension": ".py",
   "mimetype": "text/x-python",
   "name": "python",
   "nbconvert_exporter": "python",
   "pygments_lexer": "ipython3",
   "version": "3.10.13"
  }
 },
 "nbformat": 4,
 "nbformat_minor": 5
}
