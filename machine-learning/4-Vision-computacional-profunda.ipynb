{
 "cells": [
  {
   "cell_type": "markdown",
   "id": "59724343-33e6-4fe4-adf1-0e4a6172d683",
   "metadata": {},
   "source": [
    "### **Visión Computacional Profunda** ###"
   ]
  },
  {
   "cell_type": "markdown",
   "id": "b0a3e7b7-e220-4819-b7d2-cc3eb6997851",
   "metadata": {},
   "source": [
    "Vamos a trabajar con una Red Neuronal Convolucional (Convolutional Neural Network) para clasificación de imágenes y detección/reconocimiento de objetos, usando Visión Computacional Profunda (Deep Computer Vision).\n",
    "\n",
    "El objetivo es clasificar y detectar objetos específicos en una imagen dada. A continuación se detallan algunos de los conceptos inherentes a las Redes Convolucionales:\n",
    "\n",
    "* Datos de Imagen (Image Data)\n",
    "* Capa Convolucional (Convolutional Layer): Se aplican operaciones de convolución para detectar patrones locales en la entrada, como bordes, texturas y formas.\n",
    "* Capa de Agrupación (Pooling Layer): Su objetivo es reducir la dimensionalidad de la representación, conservando las características más importantes y disminuyendo el número de parámetros.\n",
    "* Arquitecturas CNN (Convolutional Neural Network Architectures)"
   ]
  },
  {
   "attachments": {},
   "cell_type": "markdown",
   "id": "18862747-e378-4915-8ca9-1c9027012f4b",
   "metadata": {},
   "source": [
    "**Datos de Imagen:**\n",
    "\n",
    "Las imágenes con las que trataremos en este caso tienen 3 dimensiones (Mapa de Características): Alto, Ancho y Canales de Color. El número e canales de color representa la profundidad de una imagen y los colores utilizados en ella. Por ejemplo, una imagen con tres canales estará compuesta comunmente por píxeles RGB (red, green, blue). Por tanto, por cada pixel tenemos tres valores numéricos en el rango 0-255. "
   ]
  },
  {
   "attachments": {},
   "cell_type": "markdown",
   "id": "bc36a120-721b-4865-aa66-7291516dbb19",
   "metadata": {},
   "source": [
    "**Redes Neuronales Convolucionales (Convnet):**\n",
    "\n",
    "Una Convnet está compuesta por N Capas Convolucionales. Su objetivo es detectar patrones en la imagen que puedan ser utilizados para clasificar la imágen o partes de ella.\n",
    "La diferencia fundamental entre estás capas y las capas densamente conectadas es que estás últimas detentan patrones globalmente, mientras que las capas convolucionales detectan patrones localmente (sin tener en consideración en qué punto de la imagen detecta dichos patrones).\n",
    "\n",
    "Las capas convolucionales tomarán mapas de características como entrada y nos darán como resultado otro mapa de características detectadas en la imagen, a las cuáles nos referiremos como Filtros."
   ]
  },
  {
   "attachments": {},
   "cell_type": "markdown",
   "id": "8233cd7b-5430-41b3-bdaf-dbc0fc435f35",
   "metadata": {},
   "source": [
    "**Parámetros de Capa:**\n",
    "\n",
    "Una Capa Convolucional está definida por dos parámetros clave: Filtros y \n",
    "\n",
    "* Filtros: Patrón de m x n pixels que se busca en una imagen. El número de filtros en una Capa Convolucional represente la catidad de patrones que la capa está buscando y la profundidad del Mapa de Características resultante.\n",
    "* "
   ]
  },
  {
   "attachments": {},
   "cell_type": "markdown",
   "id": "f56a676b-fd2e-40bc-83c0-e1c6d112020f",
   "metadata": {},
   "source": [
    "**[Creación de una Convnet](https://www.tensorflow.org/tutorials/images/cnn):**\n",
    "\n"
   ]
  },
  {
   "attachments": {},
   "cell_type": "markdown",
   "id": "2c69ae02-a7e9-4acc-ad60-09123a08c394",
   "metadata": {},
   "source": [
    "**Dataset:**\n",
    "\n",
    "En el ejemplo vamos a tratar de clasificar 10 diferentes objetos. El Dataset que vamos a utilizar está dentro de Tensorflow y se llama \"CIFAR Image Dataset\". Contiene 60.000 imágenes de color 32x32 con 6.000 imágenes pertenecientes a cada clasificación. Las etiquetas son: Airplane, Automobile, Bird, Cat, Deer, Dog, Frog, Horse, Ship, Truck."
   ]
  },
  {
   "attachments": {},
   "cell_type": "markdown",
   "id": "ba82e5b5-7540-4323-b473-be4149038817",
   "metadata": {},
   "source": [
    "**Modulos:**"
   ]
  },
  {
   "cell_type": "code",
   "execution_count": null,
   "id": "ea97c0d6-3159-42c5-9841-e6b4f1122b86",
   "metadata": {},
   "outputs": [],
   "source": [
    "import tensorflow as tf\n",
    "\n",
    "from tensorflow.keras import datasets, layers, models\n",
    "import matplotlib.pyplot as plt"
   ]
  },
  {
   "attachments": {},
   "cell_type": "markdown",
   "id": "2727ff61-6cc4-4e5d-9a55-68fccf34f978",
   "metadata": {},
   "source": [
    "**Carga de los datos de entrada:**"
   ]
  },
  {
   "cell_type": "code",
   "execution_count": null,
   "id": "9db81239-bf13-440a-b4e9-39abfe0176ff",
   "metadata": {},
   "outputs": [],
   "source": [
    "# Cargamos y partimos (datos de entrenamiento y datos de evaluación) el Dataset \n",
    "(train_images, train_labels), (test_images, test_labels) = datasets.cifar10.load_data()\n",
    "\n",
    "# Normalizamos los valores de cada pixel para que estén en el ranto 0-1\n",
    "train_images, test_images = train_images / 255.0, test_images / 255.0\n",
    "\n",
    "class_names = ['airplane', 'automobile', 'bird', 'cat', 'deer', 'dog', 'frog', 'horse', 'ship', 'truck']"
   ]
  },
  {
   "cell_type": "code",
   "execution_count": null,
   "id": "0f01946b-0e7e-40a4-9d38-de7188732864",
   "metadata": {},
   "outputs": [],
   "source": [
    "# Ejemplo de imagen\n",
    "img_index = 0\n",
    "plt.imshow(train_images[img_index], cmap=plt.cm.binary)\n",
    "plt.xlabel(class_names[train_labels[img_index][0]]) # Es necesario un índice adicional [0] porque las etiquetas del Dataset son Arrays\n",
    "plt.show()"
   ]
  },
  {
   "cell_type": "code",
   "execution_count": null,
   "id": "cbf54c40-9da0-4f55-bb7b-7d6fa159b963",
   "metadata": {},
   "outputs": [],
   "source": [
    "plt.figure(figsize=(10,10))\n",
    "for i in range(25):\n",
    "    plt.subplot(5,5,i+1)\n",
    "    plt.xticks([])\n",
    "    plt.yticks([])\n",
    "    plt.grid(False)\n",
    "    plt.imshow(train_images[i])\n",
    "    # The CIFAR labels happen to be arrays, \n",
    "    # which is why you need the extra index\n",
    "    plt.xlabel(class_names[train_labels[i][0]])\n",
    "plt.show()"
   ]
  },
  {
   "attachments": {},
   "cell_type": "markdown",
   "id": "e942628d-6dbb-4b7d-a5eb-3e7ed31f0e62",
   "metadata": {},
   "source": [
    "**Arquitectura de la Red Neuronal Convolucional:**\n",
    "\n",
    "Una arquitectura común para las CNNs es una pila de capas Conv2D y MaxPooling2D, seguidas por unas pocas capas densamente conectadas. La idea es que las capas convolucionales y de maxPooling (su objetivo es simplificar los Mapas de Características resultantes) extraen las características importantes de la imagen (Filtros). Tras lo cual las capas densamente conectadas determinan la clase a la que pertenece la imagen. Comenzamos con la construcción de la Base Convolucional:"
   ]
  },
  {
   "cell_type": "code",
   "execution_count": null,
   "id": "500d6aa0-6143-42d3-a014-0d49bf42f26d",
   "metadata": {},
   "outputs": [],
   "source": [
    "model = models.Sequential()\n",
    "model.add(layers.Conv2D(32, (3, 3), activation='relu', input_shape=(32, 32, 3)))\n",
    "model.add(layers.MaxPooling2D((2, 2)))\n",
    "model.add(layers.Conv2D(64, (3, 3), activation='relu'))\n",
    "model.add(layers.MaxPooling2D((2, 2)))\n",
    "model.add(layers.Conv2D(64, (3, 3), activation='relu'))"
   ]
  },
  {
   "cell_type": "markdown",
   "id": "52e127cf-91c8-4e6f-9f4f-b6ee4f2742a4",
   "metadata": {},
   "source": [
    "Como entrada, una CNN toma tensores de forma (altura_imagen, ancho_imagen, canales_color), ignorando el tamaño del lote.\n",
    "\n",
    "Hemos creado 3 Capas Convolucionales y 2 Capas de MaxPooling entre ellas:\n",
    "* Capa 1: Los datos de entrada son de (32,32,3) y procesan 32 filtros de (3,3). Se aplica la función de activación relu.\n",
    "* Capa 2: Ejecuta la operación de max pooling utilizando ejemplos de 2x2 y un stride de 2.\n",
    "* Resto de capas: Siguen la misma línea, pero toman su tamaño del mapa de características de su capa predecesora. También incrementan la frecuencia de filtros de 32 a 64. "
   ]
  },
  {
   "cell_type": "code",
   "execution_count": null,
   "id": "c08ef662-89b0-47bb-980f-b0860564a6a3",
   "metadata": {},
   "outputs": [],
   "source": [
    "model.summary() ## Revisión del Modelo creado"
   ]
  },
  {
   "cell_type": "markdown",
   "id": "55d38aaf-a96c-4b40-b462-04dcef54fbcb",
   "metadata": {},
   "source": [
    "A continuación, añadimos las capas densamente conectadas."
   ]
  },
  {
   "cell_type": "code",
   "execution_count": null,
   "id": "5f5ec90d-14ec-4cae-9ff9-9b9ce4503687",
   "metadata": {},
   "outputs": [],
   "source": [
    "model.add(layers.Flatten())\n",
    "model.add(layers.Dense(64, activation='relu'))\n",
    "model.add(layers.Dense(10))"
   ]
  },
  {
   "cell_type": "code",
   "execution_count": null,
   "id": "0dac6c70-fc2d-4a18-878e-99680779369f",
   "metadata": {},
   "outputs": [],
   "source": [
    "model.summary()"
   ]
  },
  {
   "attachments": {},
   "cell_type": "markdown",
   "id": "5c5c4a8a-95b2-4196-baae-a64944d9681e",
   "metadata": {},
   "source": [
    "**Entrenamiento del Modelo:**"
   ]
  },
  {
   "cell_type": "code",
   "execution_count": null,
   "id": "c8e72ca2-03f4-4f6b-9734-e3b61799b3f0",
   "metadata": {},
   "outputs": [],
   "source": [
    "model.compile(optimizer='adam',\n",
    "              loss=tf.keras.losses.SparseCategoricalCrossentropy(from_logits=True),\n",
    "              metrics=['accuracy'])\n",
    "\n",
    "history = model.fit(train_images, train_labels, epochs=10, \n",
    "                    validation_data=(test_images, test_labels))"
   ]
  },
  {
   "attachments": {},
   "cell_type": "markdown",
   "id": "f3a0a095-b502-4077-9299-005a350b683b",
   "metadata": {},
   "source": [
    "**Evaluación del Modelo:**\n",
    "\n",
    "Hemos conseguido un acierto del 71%, pero se podría mejorar con las técnicas que veremos a continuación."
   ]
  },
  {
   "cell_type": "code",
   "execution_count": null,
   "id": "a1891515-8ec2-47c7-bd61-adf3136eb010",
   "metadata": {},
   "outputs": [],
   "source": [
    "plt.plot(history.history['accuracy'], label='accuracy')\n",
    "plt.plot(history.history['val_accuracy'], label = 'val_accuracy')\n",
    "plt.xlabel('Epoch')\n",
    "plt.ylabel('Accuracy')\n",
    "plt.ylim([0.5, 1])\n",
    "plt.legend(loc='lower right')\n",
    "\n",
    "test_loss, test_acc = model.evaluate(test_images, test_labels, verbose=2)\n",
    "print(test_acc)"
   ]
  },
  {
   "attachments": {},
   "cell_type": "markdown",
   "id": "0b7096a5-6e38-4f5c-99c5-549b9aa3e368",
   "metadata": {},
   "source": [
    "### **Trabajano con Datasets pequeños:** ###"
   ]
  },
  {
   "attachments": {},
   "cell_type": "markdown",
   "id": "c03ca439-a12f-4f62-a216-6103c9fd1bd7",
   "metadata": {},
   "source": [
    "Cuando no disponemos de millones de imágenes is complicado entrenar una CNN desde cero que ofrezca muy buenos resultados. A continuación una seria de técnicas para mejorar los resultados cuando disponemos de Datasets pequeños con miles de imágenes (que no millones).\n",
    "\n",
    "**Aumento de Datos:**\n",
    "\n",
    "Para crear un Dataset más grande a partir de uno más pequeño, evitando el Overfitting, se puede usar una técnica llamada Aumeto de Datos. Funciona simplemente realizando transformaciones al azar en las imágenes de entrada, de manera que nuestro modelo generalice mejor. Estas transformaciones pueden ser compresiones, rotaciones, estiramientos o incluso cambios de color."
   ]
  },
  {
   "cell_type": "code",
   "execution_count": null,
   "id": "f302104b-675b-4769-962e-295a0a166777",
   "metadata": {},
   "outputs": [],
   "source": [
    "from keras.preprocessing import image\n",
    "from keras.preprocessing.image import ImageDataGenerator\n",
    "from tensorflow.keras.utils import img_to_array"
   ]
  },
  {
   "cell_type": "code",
   "execution_count": null,
   "id": "905ffdca-b215-470e-b997-fd80e027cece",
   "metadata": {},
   "outputs": [],
   "source": [
    "# Creamos un Generador de Objetos que transforma imágenes\n",
    "datagen = ImageDataGenerator(\n",
    "    rotation_range = 40,      # Rango de rotación en grados\n",
    "    width_shift_range = 0.2,  # Rango para cambiar la posición horizontal de la imagen\n",
    "    height_shift_range = 0.2, # Rango para cambiar la posición vertical de la imagen\n",
    "    shear_range = 0.2,        # Rango de la deformación\n",
    "    zoom_range = 0.2,         # Rango de zoom\n",
    "    horizontal_flip = True,   # Rango de volteo horizontal\n",
    "    fill_mode = 'nearest')    # Estrategia de rellenado para puntos fuera de los límites después de las transforamciones\n",
    "\n",
    "# Escogemos una imagen de prueba a transformar\n",
    "test_img = train_images[14]\n",
    "img = img_to_array(test_img)        # Convertimos la imagen a un Array de Numpy\n",
    "img = img.reshape((1,) + img.shape) # Modificamos el tamaño de la imagen\n",
    "\n",
    "# Este bucle es infinito (hasta romperlo), guardamos imágenes en el directorio actual\n",
    "i = 0\n",
    "for batch in datagen.flow(img, save_prefix = 'test', save_format = 'jpeg'): \n",
    "    plt.figure(i)\n",
    "    plot = plt.imshow(img_to_array(batch[0]))\n",
    "    i += 1\n",
    "    if i > 4:\n",
    "        break\n",
    "\n",
    "plt.show()"
   ]
  },
  {
   "cell_type": "markdown",
   "id": "fc36333e-08fa-4387-871f-fd18397be6b4",
   "metadata": {},
   "source": [
    "**Modelos Preentrenados:**\n",
    "\n",
    "El modelo construido durante el ejercicio, ha tardado varios minutos en ejecutarse y tan solo ha obtenido un porcentaje de éxito del 70%.\n",
    "\n",
    "Otra de las formas de mejorar dicho comportamiento sin incrementar el Dataset es el uso de CNNs preentrenadas como parte de nuestra propia red personalizada. Podemos utilizar una CNN preentrenada (con millones de imágenes) como punto de partida de nuestro modelo. Esto nos permite tener una gran Base Convolucional antes de incluir nuestro clasificador densamente conectado.\n",
    "\n",
    "**Fine Tuning**\n",
    "\n",
    "Al utilizar una CNN preentrenada, habitualmente nos gustará retocar las capas finales de la Base Convolucional para que trabaje mejor con nuestro problema específico. Las primeras capas de CNN preentrenado serán muy buenas extrayendo características de bajo nivel y bordes, cosas que son similares en cualquier imagen. Las capas posteriores son mejores identificando características muy específicas como formas o incluso ojos. Ajustando las capas finales, podemos buscar únicamente aquellas características relevantes para nuestro problema.\n",
    "\n",
    "**[Utilizando un Modelo Preentrenado + Fine Tuning](https://www.tensorflow.org/tutorials/images/transfer_learning)**\n",
    "\n",
    "**Módulos**"
   ]
  },
  {
   "cell_type": "code",
   "execution_count": null,
   "id": "61598416-76e4-4920-be13-9162c3858976",
   "metadata": {},
   "outputs": [],
   "source": [
    "import os\n",
    "import numpy as np\n",
    "import matplotlib.pyplot as plt\n",
    "import cv2\n",
    "import random\n",
    "\n",
    "import tensorflow as tf\n",
    "from tensorflow.keras.models import Sequential\n",
    "from tensorflow.keras.layers import Dense, Dropout, Activation, Flatten, Conv2D, MaxPooling2D"
   ]
  },
  {
   "cell_type": "markdown",
   "id": "b303d532-6d41-4ba4-9f9c-e3809125e6a3",
   "metadata": {},
   "source": [
    "**Dataset**\n",
    "\n",
    "El conjunto de datos que vamos a utilizar en este ejemplo, contiene varios miles de imágenes de gatos y perros."
   ]
  },
  {
   "cell_type": "code",
   "execution_count": null,
   "id": "e59b7229-ad10-4a61-900b-69767e80bd01",
   "metadata": {},
   "outputs": [],
   "source": [
    "DATADIR = r'C:\\Users\\Jairo\\Documents\\Trabajo\\Formacion\\IA\\Python\\Ejemplos\\Datasets\\PetImages'\n",
    "CATEGORIES = ['Dog', 'Cat']\n",
    "IMG_SIZE = 50"
   ]
  },
  {
   "cell_type": "code",
   "execution_count": null,
   "id": "e885ac97-8bb4-4d61-bc40-5367e6900df6",
   "metadata": {},
   "outputs": [],
   "source": [
    "# Sirve para ver un ejemplo del resultado obtenido\n",
    "for category in CATEGORIES:\n",
    "    path = os.path.join(DATADIR, category) # Path en el que se encuentran las imágenes de cada categoría (NO PUEDE CONTENER ACENTOS)\n",
    "    for img in os.listdir(path):\n",
    "        img_array = cv2.imread(os.path.join(path, img),cv2.IMREAD_GRAYSCALE)\n",
    "        plt.imshow(img_array, cmap='gray')\n",
    "        plt.show()\n",
    "        break\n",
    "    break\n",
    "\n",
    "print(img_array)\n",
    "\n",
    "new_array = cv2.resize(img_array, (IMG_SIZE, IMG_SIZE))\n",
    "\n",
    "plt.imshow(new_array, cmap='gray')\n",
    "plt.show()"
   ]
  },
  {
   "cell_type": "code",
   "execution_count": null,
   "id": "a093591a-f029-4750-992d-710d86a360d8",
   "metadata": {},
   "outputs": [],
   "source": [
    "# Preparamos el Dataset para pasarle al modelo\n",
    "training_data = [] # Inicializamos el vector que contendrá los datos de entrenamiento\n",
    "def create_training_data():\n",
    "    for category in CATEGORIES:\n",
    "        path = os.path.join(DATADIR, category) # Path en el que se encuentran las imágenes de cada categoría (NO PUEDE CONTENER ACENTOS)\n",
    "        class_num = CATEGORIES.index(category) # Identificamos los valores \"Dog\"y \"Cat\" con 0 y 1 para trabajar con valores numéricos\n",
    "        for img in os.listdir(path):\n",
    "            try:\n",
    "                img_array = cv2.imread(os.path.join(path, img), cv2.IMREAD_GRAYSCALE)\n",
    "                new_array = cv2.resize(img_array, (IMG_SIZE, IMG_SIZE))\n",
    "                training_data.append([new_array, class_num])\n",
    "            except Exception as e:\n",
    "                pass\n",
    "\n",
    "create_training_data()"
   ]
  },
  {
   "cell_type": "code",
   "execution_count": null,
   "id": "27670829-f8ee-49fe-a744-68cd72b2ca8f",
   "metadata": {},
   "outputs": [],
   "source": [
    "print(len(training_data))\n",
    "print(training_data[0])"
   ]
  },
  {
   "cell_type": "code",
   "execution_count": null,
   "id": "112c905d-7b27-4602-b16f-7552f182efd2",
   "metadata": {},
   "outputs": [],
   "source": [
    "# Mezclamos los datos para que el modelo trabaje mejor en el proceso de entrenameinto\n",
    "random.shuffle(training_data)"
   ]
  },
  {
   "cell_type": "code",
   "execution_count": null,
   "id": "1e8072da-137b-4520-bd98-3b8fb476addb",
   "metadata": {},
   "outputs": [],
   "source": [
    "# Partimos el dataset en los vectores de Características y Etiquetas\n",
    "x = []\n",
    "y = []\n",
    "\n",
    "for features, label in training_data:\n",
    "    x.append(features)\n",
    "    y.append(label)\n",
    "\n",
    "# Convertimos los array en un array de numpy para poder pasárselos al modelo\n",
    "# El primer parámetro del reshape recoge el número de características (-1 indica cualquier valor)\n",
    "x = np.array(x).reshape(-1, IMG_SIZE, IMG_SIZE, 1) # Si quieremos hacer el entrenamiento con las imágenes en color, hay que modificar el último parámetro de 1 a 3 (R, G, B)\n",
    "y = np.array(y)"
   ]
  },
  {
   "cell_type": "code",
   "execution_count": null,
   "id": "d643ff17-3308-4449-99a1-2775c66764d6",
   "metadata": {},
   "outputs": [],
   "source": [
    "print(x[0])\n",
    "print(y[0])"
   ]
  },
  {
   "cell_type": "markdown",
   "id": "33a64baa-6fad-4841-b083-bde48c527ec0",
   "metadata": {},
   "source": [
    "En ocasiones querremos guardar la estructura de objetos de Python de manera persistente en archivos y luego recuperarlos. Por ejemplo, para guardar y cargar modelos de aprendizaje automático, almacenar configuraciones de aplicaciones, o cualquier caso en el que se necesite preservar la estructura y el contenido de objetos complejos. La siguiente celda hace uso del módulo pickle para guardar los datos resultantes (no es necesario ejecutar esta parte).\n",
    "\n",
    "* *open*: Abrir un archivo para lectura o escritura de objetos serializados. Los objetos serializados son objetos de Python que han sido convertidos en una secuencia de bytes. Parámetros:\n",
    "    * file: Nombre del archivo a abrir (si no existe, lo crea).\n",
    "    * mode: Modo de apertura del archivo. Los valores posibles son \"r\" para lectura, \"w\" para escritura, \"rb\" para lectura binaria y \"wb\" para escritura binaria.\n",
    "* *dump*: Serializar un objeto de Python en una secuencia de bytes. La serialización es el proceso de convertir un objeto en una forma que pueda ser almacenada o transmitida. Parámetros:\n",
    "    * obj: Objeto a serializar.\n",
    "    * file: Archivo u objeto de flujo en el que se escribirá el objeto serializado.\n",
    "* *close*: Cerrar un flujo de datos que se está utilizando para serializar o deserializar objetos. Parámetros:\n",
    "    * file: Archivo u objeto de flujo a cerrar.\n",
    "* *load*: Deserializar un objeto de Python a partir de una secuencia de bytes. La deserialización es el proceso de convertir una secuencia de bytes en un objeto de Python. Parámetros:\n",
    "    * file: Archivo u objeto de flujo del que se leerá el objeto deserializado."
   ]
  },
  {
   "cell_type": "code",
   "execution_count": null,
   "id": "265ec50d-35cb-4f63-958b-0d6f233ed91b",
   "metadata": {},
   "outputs": [],
   "source": [
    "import pickle\n",
    "\n",
    "# Guardamos los vectores de Características y Etiquetas creados\n",
    "pickle_out = open('x.picle', 'wb')\n",
    "pickle.dump(x, pickle_out)\n",
    "pickle_out.close()\n",
    "\n",
    "pickle_out = open('y.picle', 'wb')\n",
    "pickle.dump(y, pickle_out)\n",
    "pickle_out.close()\n",
    "\n",
    "# Podríamos recuperarlos de este modo de ser necesario\n",
    "pickle_in = open('x.picle', 'rb')\n",
    "x = pickle.load(pickle_in)\n",
    "pickle_in.close()"
   ]
  },
  {
   "cell_type": "markdown",
   "id": "2f5d4e4b-d26b-4219-af17-426a3851423e",
   "metadata": {},
   "source": [
    "**Preprocesamiento de Datos:**\n",
    "\n",
    "El último paso antes de crear nuestro modelo, es preprocesar los datos. Es necesario aplicar algunas transformaciones a nuestros datos antes de pasárselos al modelo. En este caso, vamos a combertir el color de cada pixel de un valor entre 0 y 255 a un valor entre 0 y 1 (dividiendo cada valor por 255). Valores más pequeños facilitarán al modelo el tratamiento de los mismos."
   ]
  },
  {
   "cell_type": "code",
   "execution_count": 8,
   "id": "7535489d-80b8-4643-a3a0-9185f5811684",
   "metadata": {},
   "outputs": [],
   "source": [
    "x = x/255.0"
   ]
  },
  {
   "cell_type": "markdown",
   "id": "d3898783-ae9c-4b6c-9f0f-adc673c3d55e",
   "metadata": {},
   "source": [
    "**Arquitectura de la Red Neuronal Convolucional:**\n",
    "\n",
    "Una arquitectura común para las CNNs es una pila de capas Conv2D y MaxPooling2D, seguidas por unas pocas capas densamente conectadas. La idea es que las capas convolucionales y de maxPooling (su objetivo es simplificar los Mapas de Características resultantes) extraen las características importantes de la imagen (Filtros). Tras lo cual las capas densamente conectadas determinan la clase a la que pertenece la imagen. Comenzamos con la construcción de la Base Convolucional:"
   ]
  },
  {
   "cell_type": "code",
   "execution_count": 19,
   "id": "137ce5b0-406c-4b99-9ea3-7f150d8d6396",
   "metadata": {},
   "outputs": [],
   "source": [
    "model = Sequential()\n",
    "model.add(Conv2D(64, (3, 3), activation='relu', input_shape=x.shape[1:])) # shape[:1] indica que tome el valor del shape de x\n",
    "model.add(MaxPooling2D((2, 2)))\n",
    "model.add(Conv2D(64, (3, 3), activation='relu'))\n",
    "model.add(MaxPooling2D((2, 2)))\n",
    "model.add(Conv2D(64, (3, 3), activation='relu'))"
   ]
  },
  {
   "cell_type": "markdown",
   "id": "138cbd3f-fb9d-4ff1-8568-d27f907e4c0d",
   "metadata": {},
   "source": [
    "Como entrada, una CNN toma tensores de forma (altura_imagen, ancho_imagen, canales_color), ignorando el tamaño del lote.\n",
    "\n",
    "Hemos creado 3 Capas Convolucionales y 2 Capas de MaxPooling entre ellas:"
   ]
  },
  {
   "cell_type": "code",
   "execution_count": null,
   "id": "27e70e22-753b-4de1-852e-b31948c3affe",
   "metadata": {},
   "outputs": [],
   "source": [
    "model.summary() ## Revisión del Modelo creado"
   ]
  },
  {
   "cell_type": "markdown",
   "id": "53562329-6b34-4822-af38-f58835753e91",
   "metadata": {},
   "source": [
    "A continuación, añadimos las capas densamente conectadas."
   ]
  },
  {
   "cell_type": "code",
   "execution_count": 21,
   "id": "33bd60b8-b55d-421e-a50d-c1239533679c",
   "metadata": {},
   "outputs": [],
   "source": [
    "model.add(Flatten())\n",
    "model.add(Dense(64, activation='relu'))\n",
    "model.add(Dense(1, activation='sigmoid'))"
   ]
  },
  {
   "cell_type": "code",
   "execution_count": null,
   "id": "f65cd4bf-e18f-4294-870f-5f1bf55ad565",
   "metadata": {},
   "outputs": [],
   "source": [
    "model.summary()"
   ]
  },
  {
   "attachments": {},
   "cell_type": "markdown",
   "id": "3f8c25e5-3808-42a2-9d03-8542ea9857e5",
   "metadata": {},
   "source": [
    "**Entrenamiento del Modelo:**"
   ]
  },
  {
   "cell_type": "code",
   "execution_count": 24,
   "id": "8a9f85ee-04b7-4ba1-ba9d-81d9381f36fa",
   "metadata": {},
   "outputs": [
    {
     "name": "stdout",
     "output_type": "stream",
     "text": [
      "624/624 [==============================] - 234s 371ms/step - loss: 0.0000e+00 - accuracy: 0.4983 - val_loss: 0.0000e+00 - val_accuracy: 0.5060\n"
     ]
    }
   ],
   "source": [
    "model.compile(optimizer='adam',\n",
    "              loss='categorical_crossentropy',\n",
    "              metrics=['accuracy'])\n",
    "\n",
    "history = model.fit(x, y, batch_size=32, epochs=1, validation_split=0.1)"
   ]
  },
  {
   "attachments": {},
   "cell_type": "markdown",
   "id": "c9ad181c-5378-4701-97aa-ede4b6ecabcb",
   "metadata": {},
   "source": [
    "##### **Evaluación del Modelo:**\n",
    "\n",
    "Hemos conseguido un acierto del 50%."
   ]
  },
  {
   "cell_type": "code",
   "execution_count": 15,
   "id": "1c0fc140-4000-45f9-a71b-e892f909d653",
   "metadata": {},
   "outputs": [
    {
     "data": {
      "text/plain": [
       "<matplotlib.legend.Legend at 0xcc44f0fa60>"
      ]
     },
     "execution_count": 15,
     "metadata": {},
     "output_type": "execute_result"
    },
    {
     "data": {
      "image/png": "[encoded data removed]",
      "text/plain": [
       "<Figure size 640x480 with 1 Axes>"
      ]
     },
     "metadata": {},
     "output_type": "display_data"
    }
   ],
   "source": [
    "plt.plot(history.history['accuracy'], label='accuracy')\n",
    "plt.plot(history.history['val_accuracy'], label = 'val_accuracy')\n",
    "plt.xlabel('Epoch')\n",
    "plt.ylabel('Accuracy')\n",
    "plt.ylim([0.0, 1])\n",
    "plt.legend(loc='lower right')\n",
    "\n",
    "#test_loss, test_acc = model.evaluate(test_images, test_labels, verbose=2)\n",
    "#print(test_acc)"
   ]
  },
  {
   "cell_type": "code",
   "execution_count": null,
   "id": "4532b51b-72f5-4258-b825-1b47663b3b50",
   "metadata": {},
   "outputs": [],
   "source": []
  },
  {
   "cell_type": "markdown",
   "id": "3716a50f-4084-45de-8d99-cba466706736",
   "metadata": {},
   "source": [
    "# La URL del Dataset 'cats_vs_dogs' no funciona correctamente. Sin ese problema, se podría ejecutar el código que se muestra a continuación en lugar del que hemos visto previamente."
   ]
  },
  {
   "cell_type": "code",
   "execution_count": null,
   "id": "43797581-cc85-4a42-acb2-db53e0bad16e",
   "metadata": {},
   "outputs": [],
   "source": [
    "import os\n",
    "import numpy as np\n",
    "import matplotlib.pyplot as plt\n",
    "\n",
    "import tensorflow as tf\n",
    "from tensorflow import keras\n",
    "\n",
    "# Es necesario tener instalado el paquete \"ipywidgets\"\n",
    "import tensorflow_datasets as tfds\n",
    "tfds.disable_progress_bar()"
   ]
  },
  {
   "cell_type": "code",
   "execution_count": null,
   "id": "2c927e58-b8c1-4380-a850-461f8736c051",
   "metadata": {},
   "outputs": [],
   "source": [
    "\n",
    "\n",
    "# Cargamos y partimos (datos de entrenamiento y datos de evaluación) el Dataset\n",
    "(raw_train, raw_validation, raw_test), metadata = tfds.load(\n",
    "    'cats_vs_dogs',\n",
    "    split=['train[80%]', 'train[80%:90%]', 'train[90%]'],\n",
    "    with_info = True,\n",
    "    as_supervised = True,\n",
    ")"
   ]
  },
  {
   "cell_type": "code",
   "execution_count": null,
   "id": "c3677e71-088f-49f0-9ea7-2c72a743f93b",
   "metadata": {},
   "outputs": [],
   "source": [
    "# Creamos un objeto función que podemos utilizar para conseguir etiquetas\n",
    "get_label_name = metadata.features['label'].int2str\n",
    "\n",
    "# Mostramos dos imágenes de nuestro Dataset\n",
    "for image, label in raw_train.take(2): # Número de imágenes a mostrar\n",
    "    plt.figure()\n",
    "    plt.imshow(image)\n",
    "    plt.tittle(get_label_name(label))"
   ]
  },
  {
   "cell_type": "markdown",
   "id": "0343fc6d-1f7f-4ea1-a6ba-4a4539751021",
   "metadata": {},
   "source": [
    "**Preprocesamiento de los Datos de Entrada**\n",
    "\n",
    "Podemos ver como el tamaño de cada imagen es distinto. Nosotros necesitamos que el tamaño sea equivalente y para ello creamos la siguiente función:"
   ]
  },
  {
   "cell_type": "code",
   "execution_count": null,
   "id": "258700d1-1031-4750-9f04-bf8081ec6feb",
   "metadata": {},
   "outputs": [],
   "source": [
    "IMG_SIZE = 160 ## Todas las imágenes serán de 160x160\n",
    "\n",
    "def format_example (image, label):\n",
    "    image = tf.cast(image, tf.float32)\n",
    "    image = (image/127.5) - 1\n",
    "    image = tf.image.resize(image, (IMG_SIZE, IMG_SIZE))\n",
    "    return image, label"
   ]
  }
 ],
 "metadata": {
  "kernelspec": {
   "display_name": "Python 3 (ipykernel)",
   "language": "python",
   "name": "python3"
  },
  "language_info": {
   "codemirror_mode": {
    "name": "ipython",
    "version": 3
   },
   "file_extension": ".py",
   "mimetype": "text/x-python",
   "name": "python",
   "nbconvert_exporter": "python",
   "pygments_lexer": "ipython3",
   "version": "3.10.13"
  }
 },
 "nbformat": 4,
 "nbformat_minor": 5
}
