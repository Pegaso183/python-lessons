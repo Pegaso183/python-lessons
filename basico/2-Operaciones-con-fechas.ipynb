{
 "cells": [
  {
   "cell_type": "markdown",
   "id": "59724343-33e6-4fe4-adf1-0e4a6172d683",
   "metadata": {},
   "source": [
    "### **Operaciones con Fechas** ###"
   ]
  },
  {
   "cell_type": "markdown",
   "id": "d0e8f00b-058a-46cb-98cc-ef1df61e64d8",
   "metadata": {},
   "source": [
    "**Módulos:**"
   ]
  },
  {
   "cell_type": "code",
   "execution_count": 1,
   "id": "6793c9ae-a4fe-49d1-85a6-fd4709c9cf86",
   "metadata": {},
   "outputs": [],
   "source": [
    "from datetime import datetime    "
   ]
  },
  {
   "cell_type": "markdown",
   "id": "c0524ce6-5970-44fe-8654-961ce0a669cd",
   "metadata": {},
   "source": [
    "**Funciones:**"
   ]
  },
  {
   "cell_type": "code",
   "execution_count": 2,
   "id": "676f96b1-7e20-4b83-bf9d-3b257839d9d3",
   "metadata": {},
   "outputs": [
    {
     "name": "stdout",
     "output_type": "stream",
     "text": [
      "2024-01-27 06:34:51.777217\n"
     ]
    }
   ],
   "source": [
    "ahora = datetime.now()\n",
    "print(ahora)"
   ]
  },
  {
   "cell_type": "code",
   "execution_count": null,
   "id": "170926f3-de05-450c-a623-5381b7c00e18",
   "metadata": {},
   "outputs": [],
   "source": []
  }
 ],
 "metadata": {
  "kernelspec": {
   "display_name": "Python 3 (ipykernel)",
   "language": "python",
   "name": "python3"
  },
  "language_info": {
   "codemirror_mode": {
    "name": "ipython",
    "version": 3
   },
   "file_extension": ".py",
   "mimetype": "text/x-python",
   "name": "python",
   "nbconvert_exporter": "python",
   "pygments_lexer": "ipython3",
   "version": "3.11.7"
  }
 },
 "nbformat": 4,
 "nbformat_minor": 5
}
