{
 "cells": [
  {
   "attachments": {},
   "cell_type": "markdown",
   "id": "96cfe317-a670-44fd-bde8-3327e5fee8e1",
   "metadata": {},
   "source": [
    "### **Módulos Panda y Hvplot** ###\n",
    "\n",
    "Ejemplo de como...\n",
    "1. Leer datos con Panda\n",
    "2. Visualizar datos mediante [Hvplot](https://hvplot.holoviz.org/)"
   ]
  },
  {
   "cell_type": "code",
   "execution_count": null,
   "id": "6793c9ae-a4fe-49d1-85a6-fd4709c9cf86",
   "metadata": {},
   "outputs": [],
   "source": [
    "import pandas as pd\n",
    "import hvplot.pandas"
   ]
  },
  {
   "cell_type": "markdown",
   "id": "50ce1bf2-1d07-44c6-9166-10c7eb4d1392",
   "metadata": {},
   "source": [
    "Creamos un DataFrame (Tabla Básica) con datos de vehículos"
   ]
  },
  {
   "cell_type": "code",
   "execution_count": null,
   "id": "59656e46-b4b8-460c-9acc-86d111b71f78",
   "metadata": {
    "editable": true,
    "slideshow": {
     "slide_type": ""
    },
    "tags": []
   },
   "outputs": [],
   "source": [
    "df = pd.read_csv(\"https://bit.ly/autompg-csv\")\n",
    "df"
   ]
  },
  {
   "cell_type": "markdown",
   "id": "32907c46-ed9f-4c50-85e4-9da91c728b21",
   "metadata": {},
   "source": [
    "Creamos un Gráfico de Dispersión para mostrar los datos del DataFrame. Se muestra el modo en que se relacionan las variables **mpg** y **hp**.\n",
    "* x: Columna en el eje X\n",
    "* y: Columna en el eje Y\n",
    "* color: Columna que agrupa los datos por colores (+leyenda)\n",
    "* hover_cols: Información adicional que se muestra al colocar el ratón sobre un punto concreto del Gráfico"
   ]
  },
  {
   "cell_type": "code",
   "execution_count": null,
   "id": "1c8044dc-9f83-4489-a5c5-f565cf47f174",
   "metadata": {},
   "outputs": [],
   "source": [
    "df.hvplot.scatter(x='mpg', y='hp', color='origin', hover_cols=['name', 'yr'])"
   ]
  },
  {
   "cell_type": "code",
   "execution_count": null,
   "id": "5ce78f56-8448-453d-bc1a-f88fc3c202a0",
   "metadata": {},
   "outputs": [],
   "source": []
  }
 ],
 "metadata": {
  "kernelspec": {
   "display_name": "Python 3 (ipykernel)",
   "language": "python",
   "name": "python3"
  },
  "language_info": {
   "codemirror_mode": {
    "name": "ipython",
    "version": 3
   },
   "file_extension": ".py",
   "mimetype": "text/x-python",
   "name": "python",
   "nbconvert_exporter": "python",
   "pygments_lexer": "ipython3",
   "version": "3.11.7"
  }
 },
 "nbformat": 4,
 "nbformat_minor": 5
}
