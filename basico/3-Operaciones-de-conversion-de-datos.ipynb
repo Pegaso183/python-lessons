{
 "cells": [
  {
   "cell_type": "markdown",
   "id": "59724343-33e6-4fe4-adf1-0e4a6172d683",
   "metadata": {},
   "source": [
    "### **Operaciones de Conversión de Datos** ###"
   ]
  },
  {
   "cell_type": "markdown",
   "id": "d0e8f00b-058a-46cb-98cc-ef1df61e64d8",
   "metadata": {},
   "source": [
    "**Módulos:**"
   ]
  },
  {
   "cell_type": "code",
   "execution_count": null,
   "id": "6793c9ae-a4fe-49d1-85a6-fd4709c9cf86",
   "metadata": {},
   "outputs": [],
   "source": [
    " "
   ]
  },
  {
   "cell_type": "markdown",
   "id": "c0524ce6-5970-44fe-8654-961ce0a669cd",
   "metadata": {},
   "source": [
    "**Funciones:**"
   ]
  },
  {
   "cell_type": "code",
   "execution_count": null,
   "id": "676f96b1-7e20-4b83-bf9d-3b257839d9d3",
   "metadata": {},
   "outputs": [],
   "source": [
    "print(str(1))    ## Convierte a String\n",
    "print(int(\"1\"))  ## Convierte a Integer\n",
    "print(int(9.8))  ## Convierte Float a Integer (Redondea hacia cero y se pierde la parte decimal)\n",
    "print(float(1))  ## Convierte a Float\n",
    "print(1.)        ## Convierte a Float sin usar la función Float"
   ]
  },
  {
   "cell_type": "code",
   "execution_count": null,
   "id": "92c938d8-65bf-4b91-85a9-9bcba0febb0c",
   "metadata": {},
   "outputs": [],
   "source": []
  }
 ],
 "metadata": {
  "kernelspec": {
   "display_name": "Python 3 (ipykernel)",
   "language": "python",
   "name": "python3"
  },
  "language_info": {
   "codemirror_mode": {
    "name": "ipython",
    "version": 3
   },
   "file_extension": ".py",
   "mimetype": "text/x-python",
   "name": "python",
   "nbconvert_exporter": "python",
   "pygments_lexer": "ipython3",
   "version": "3.11.7"
  }
 },
 "nbformat": 4,
 "nbformat_minor": 5
}
