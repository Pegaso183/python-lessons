{
 "cells": [
  {
   "cell_type": "markdown",
   "id": "59724343-33e6-4fe4-adf1-0e4a6172d683",
   "metadata": {},
   "source": [
    "### **Trabajo con Scripts** ###"
   ]
  },
  {
   "cell_type": "markdown",
   "id": "d0e8f00b-058a-46cb-98cc-ef1df61e64d8",
   "metadata": {},
   "source": [
    "Ejemplo de como Trabajar con Scripts py\n",
    "1. Script sin parámetros de entrada\n",
    "2. Script con parámetros de entrada"
   ]
  },
  {
   "cell_type": "code",
   "execution_count": 4,
   "id": "6793c9ae-a4fe-49d1-85a6-fd4709c9cf86",
   "metadata": {},
   "outputs": [],
   "source": [
    "import sys"
   ]
  },
  {
   "cell_type": "markdown",
   "id": "00d75e2e-337f-4709-8f04-202deddfd37f",
   "metadata": {},
   "source": [
    "**Script sin parámetros de entrada**\n",
    "1. Guardar el Script como .py\n",
    "2. Ejecutar en el prompt mediante la instrucción --> python *nombre_script*"
   ]
  },
  {
   "cell_type": "code",
   "execution_count": 13,
   "id": "2633f033-6144-4910-8eb1-b64e99db3117",
   "metadata": {},
   "outputs": [
    {
     "name": "stdout",
     "output_type": "stream",
     "text": [
      "El Script de prueba funciona correctamente.\n"
     ]
    }
   ],
   "source": [
    "def prueba():\n",
    "    print(\"El Script de prueba funciona correctamente.\")\n",
    "\n",
    "prueba()"
   ]
  },
  {
   "cell_type": "markdown",
   "id": "b2df7e47-cb57-4d54-aab0-0492070f5749",
   "metadata": {},
   "source": [
    "**Script con parámetros de entrada**\n",
    "1. Guardar el Script como .py (En este caso, el script toma como entrada un texto y un número y como resultado, muestra por pantalla tantas veces el texto como número de repeticiones indicado.\n",
    "2. Ejecutar en el prompt mediante la instrucción --> python *nombre_script* \"Texto a escribir\" 4"
   ]
  },
  {
   "cell_type": "code",
   "execution_count": 20,
   "id": "9cf09230-a575-4431-8e2f-03479cfab46d",
   "metadata": {},
   "outputs": [
    {
     "name": "stdout",
     "output_type": "stream",
     "text": [
      "Texto a escribir\n",
      "Texto a escribir\n",
      "Texto a escribir\n",
      "Texto a escribir\n"
     ]
    }
   ],
   "source": [
    "##sustituir argumentos por sys.argv\n",
    "def repite_texto(argumentos):\n",
    "    if len(argumentos) == 3:\n",
    "        texto = argumentos[1]\n",
    "        repeticiones = int(argumentos[2])\n",
    "        for i in range(repeticiones):\n",
    "            print(texto)\n",
    "    else:\n",
    "        print(\"Error - Introduce los argumentos correctamente.\")\n",
    "        print('\"repite_texto.py\", \"Texto a escribir\", 4')\n",
    "\n",
    "repite_texto([\"nombre_script\", \"Texto a escribir\", 4])"
   ]
  },
  {
   "cell_type": "code",
   "execution_count": null,
   "id": "5679fc8f-7c74-4ce1-b9a2-9949b0381ccc",
   "metadata": {},
   "outputs": [],
   "source": []
  }
 ],
 "metadata": {
  "kernelspec": {
   "display_name": "Python 3 (ipykernel)",
   "language": "python",
   "name": "python3"
  },
  "language_info": {
   "codemirror_mode": {
    "name": "ipython",
    "version": 3
   },
   "file_extension": ".py",
   "mimetype": "text/x-python",
   "name": "python",
   "nbconvert_exporter": "python",
   "pygments_lexer": "ipython3",
   "version": "3.11.7"
  }
 },
 "nbformat": 4,
 "nbformat_minor": 5
}
